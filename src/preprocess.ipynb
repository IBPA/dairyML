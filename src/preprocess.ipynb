{
 "cells": [
  {
   "cell_type": "code",
   "execution_count": 59,
   "metadata": {},
   "outputs": [],
   "source": [
    "import pandas as pd\n",
    "\n",
    "import os\n",
    "import pickle as pkl\n",
    "\n",
    "from sklearn.linear_model import Lasso, LassoCV, LogisticRegressionCV, LogisticRegression\n",
    "from sklearn.svm import SVC\n",
    "from sklearn.preprocessing import StandardScaler\n",
    "from sklearn.model_selection import cross_val_score, GridSearchCV, cross_validate, KFold, cross_val_predict\n",
    "from sklearn.metrics import r2_score, explained_variance_score, normalized_mutual_info_score, \\\n",
    "    mutual_info_score, mean_absolute_error, make_scorer\n",
    "from sklearn.dummy import DummyRegressor\n",
    "from sklearn.utils.validation import check_X_y, check_array, check_is_fitted\n",
    "from sklearn.decomposition import PCA\n",
    "from sklearn.manifold import TSNE\n",
    "from sklearn.ensemble import IsolationForest\n",
    "\n",
    "from skll.metrics import spearman, pearson \n",
    "\n",
    "\n",
    "import numpy as np\n",
    "import matplotlib.pyplot as plt\n",
    "import seaborn as sns\n",
    "\n",
    "import warnings\n",
    "warnings.filterwarnings('ignore')\n",
    "from pylab import rcParams\n",
    "rcParams['figure.figsize'] = 6,6"
   ]
  },
  {
   "cell_type": "markdown",
   "metadata": {},
   "source": [
    "Custom model implementations and functions are stored in `src/dairyml.py`"
   ]
  },
  {
   "cell_type": "code",
   "execution_count": 5,
   "metadata": {},
   "outputs": [],
   "source": [
    "from dairyml import PerfectClassifierMeanRegressor, plot_r2, BoundedLasso, BoundedLassoPlusLogReg, plot_coefficients, DummyRegressorCustom"
   ]
  },
  {
   "cell_type": "markdown",
   "metadata": {},
   "source": [
    "## Import the Data\n",
    "Load the data from the csv file, and set FoodCode to be the data index"
   ]
  },
  {
   "cell_type": "code",
   "execution_count": 6,
   "metadata": {},
   "outputs": [],
   "source": [
    "data = pd.read_csv('../data/training_for_GS_122118.csv')\n",
    "data = data.set_index('FoodCode')"
   ]
  },
  {
   "cell_type": "markdown",
   "metadata": {},
   "source": [
    "Get the indices of all columns except description and lactose content - these columns are the numerical features that will be used as model input\n",
    "\n"
   ]
  },
  {
   "cell_type": "code",
   "execution_count": 7,
   "metadata": {},
   "outputs": [],
   "source": [
    "numerical_features = data.columns[1:-1]\n",
    "# print(numerical_features)"
   ]
  },
  {
   "cell_type": "markdown",
   "metadata": {},
   "source": [
    "## Assess correlation of features with target variable"
   ]
  },
  {
   "cell_type": "markdown",
   "metadata": {},
   "source": [
    "### Spearman's rank correlation coefficient"
   ]
  },
  {
   "cell_type": "code",
   "execution_count": 8,
   "metadata": {},
   "outputs": [],
   "source": [
    "correlations = pd.DataFrame()\n",
    "correlations['SRC'] = data[list(numerical_features) + ['lac.per.100g']].corr(method='spearman')['lac.per.100g']"
   ]
  },
  {
   "cell_type": "markdown",
   "metadata": {},
   "source": [
    "### Mutual Information"
   ]
  },
  {
   "cell_type": "code",
   "execution_count": 9,
   "metadata": {},
   "outputs": [],
   "source": [
    "for col in numerical_features:\n",
    "    correlations.loc[col,'MI'] = mutual_info_score(data[col],data['lac.per.100g'])\n",
    "    correlations.loc[col,'NMI'] = normalized_mutual_info_score(data[col],data['lac.per.100g'])"
   ]
  },
  {
   "cell_type": "markdown",
   "metadata": {},
   "source": [
    "### Report average values for each correlation measure"
   ]
  },
  {
   "cell_type": "code",
   "execution_count": 10,
   "metadata": {},
   "outputs": [],
   "source": [
    "# correlations"
   ]
  },
  {
   "cell_type": "code",
   "execution_count": 11,
   "metadata": {},
   "outputs": [
    {
     "data": {
      "text/plain": [
       "SRC    0.204037\n",
       "MI     3.192658\n",
       "NMI    0.726827\n",
       "dtype: float64"
      ]
     },
     "execution_count": 11,
     "metadata": {},
     "output_type": "execute_result"
    }
   ],
   "source": [
    "correlations.abs().mean(axis=0)"
   ]
  },
  {
   "cell_type": "code",
   "execution_count": 12,
   "metadata": {},
   "outputs": [],
   "source": [
    "# correlations.to_excel('../data/correlations.xlsx')"
   ]
  },
  {
   "cell_type": "markdown",
   "metadata": {},
   "source": [
    "## Prepare data for modelling\n",
    "### Standardize the input features\n",
    "- Use only the numerical features as model input `X`  \n",
    "- Use sklearn's `StandardScaler` on these features: this standardizes features by removing the mean and scaling to unit variance \n",
    "- Convert the output of `StandardScaler` back to a dataframe for convenience"
   ]
  },
  {
   "cell_type": "code",
   "execution_count": 31,
   "metadata": {},
   "outputs": [],
   "source": [
    "ss = StandardScaler()\n",
    "X = pd.DataFrame(ss.fit_transform(data[numerical_features]),columns=data[numerical_features].columns,index=data.index)\n",
    "# X.head()"
   ]
  },
  {
   "cell_type": "markdown",
   "metadata": {},
   "source": [
    "### Remove outliers"
   ]
  },
  {
   "cell_type": "markdown",
   "metadata": {},
   "source": [
    "`contamination` parameter was hand-tuned based on the appearance of PCA & t-SNE visualizations below, increasing until data points that appeared to be outliers were removed"
   ]
  },
  {
   "cell_type": "code",
   "execution_count": 32,
   "metadata": {},
   "outputs": [
    {
     "name": "stdout",
     "output_type": "stream",
     "text": [
      "Outliers removed: 5\n"
     ]
    }
   ],
   "source": [
    "iso = IsolationForest(contamination=.013)\n",
    "outliers = iso.fit_predict(X)\n",
    "print('Outliers removed: {}'.format(sum(outliers == -1)))"
   ]
  },
  {
   "cell_type": "code",
   "execution_count": 33,
   "metadata": {},
   "outputs": [],
   "source": [
    "X = X[outliers == 1]"
   ]
  },
  {
   "cell_type": "markdown",
   "metadata": {},
   "source": [
    "### Use lactose as prediction target `Y`"
   ]
  },
  {
   "cell_type": "code",
   "execution_count": 34,
   "metadata": {},
   "outputs": [],
   "source": [
    "Y = data['lac.per.100g'][outliers == 1]\n",
    "# Y.head()"
   ]
  },
  {
   "cell_type": "markdown",
   "metadata": {},
   "source": [
    "## Distribution of target variable, class imbalance"
   ]
  },
  {
   "cell_type": "code",
   "execution_count": 35,
   "metadata": {},
   "outputs": [],
   "source": [
    "Y_binary = (Y != 0).replace(True,'lactose').replace(False,'non-lactose')"
   ]
  },
  {
   "cell_type": "markdown",
   "metadata": {},
   "source": [
    "#### Class absolute numbers"
   ]
  },
  {
   "cell_type": "code",
   "execution_count": 14,
   "metadata": {},
   "outputs": [
    {
     "data": {
      "text/plain": [
       "lactose        291\n",
       "non-lactose     87\n",
       "Name: lac.per.100g, dtype: int64"
      ]
     },
     "execution_count": 14,
     "metadata": {},
     "output_type": "execute_result"
    }
   ],
   "source": [
    "Y_binary.value_counts()"
   ]
  },
  {
   "cell_type": "markdown",
   "metadata": {},
   "source": [
    "#### Class proportions"
   ]
  },
  {
   "cell_type": "code",
   "execution_count": 15,
   "metadata": {},
   "outputs": [
    {
     "data": {
      "text/plain": [
       "lactose        0.77\n",
       "non-lactose    0.23\n",
       "Name: lac.per.100g, dtype: float64"
      ]
     },
     "execution_count": 15,
     "metadata": {},
     "output_type": "execute_result"
    }
   ],
   "source": [
    "Y_binary.value_counts().divide(Y_binary.value_counts().sum()).round(2)"
   ]
  },
  {
   "cell_type": "markdown",
   "metadata": {},
   "source": [
    "#### Distribution of all lactose values"
   ]
  },
  {
   "cell_type": "code",
   "execution_count": 120,
   "metadata": {},
   "outputs": [
    {
     "data": {
      "text/plain": [
       "Text(0.5, 1.0, 'Distribution of all lactose values')"
      ]
     },
     "execution_count": 120,
     "metadata": {},
     "output_type": "execute_result"
    },
    {
     "data": {
      "image/png": "[encoded data removed]",
      "text/plain": [
       "<Figure size 576x576 with 1 Axes>"
      ]
     },
     "metadata": {
      "needs_background": "light"
     },
     "output_type": "display_data"
    }
   ],
   "source": [
    "sns.distplot(Y,bins=20)\n",
    "plt.title(\"Distribution of all lactose values\")"
   ]
  },
  {
   "cell_type": "markdown",
   "metadata": {},
   "source": [
    "#### Distribution of nonzero lactose values"
   ]
  },
  {
   "cell_type": "code",
   "execution_count": 17,
   "metadata": {},
   "outputs": [
    {
     "data": {
      "text/plain": [
       "Text(0.5, 1.0, 'Distribution of nonzero lactose values')"
      ]
     },
     "execution_count": 17,
     "metadata": {},
     "output_type": "execute_result"
    },
    {
     "data": {
      "image/png": "[encoded data removed]",
      "text/plain": [
       "<Figure size 432x288 with 1 Axes>"
      ]
     },
     "metadata": {
      "needs_background": "light"
     },
     "output_type": "display_data"
    }
   ],
   "source": [
    "sns.distplot(Y[Y!=0],bins=20)\n",
    "plt.title(\"Distribution of nonzero lactose values\")"
   ]
  },
  {
   "cell_type": "markdown",
   "metadata": {},
   "source": [
    "## Visualization: PCA & t-SNE"
   ]
  },
  {
   "cell_type": "code",
   "execution_count": 36,
   "metadata": {},
   "outputs": [
    {
     "data": {
      "image/png": "[encoded data removed]",
      "text/plain": [
       "<Figure size 432x432 with 4 Axes>"
      ]
     },
     "metadata": {
      "needs_background": "light"
     },
     "output_type": "display_data"
    }
   ],
   "source": [
    "f, axes = plt.subplots(2, 2)"
   ]
  },
  {
   "cell_type": "markdown",
   "metadata": {},
   "source": [
    "### PCA"
   ]
  },
  {
   "cell_type": "markdown",
   "metadata": {},
   "source": [
    "Here we use PCA to visualize the features along two axes. Two plots are produced. In the first, the data points are colored by lactose value. In the second, the data points are colored by the logarithm of the lactose values. Since most lactose values are low, with a few high exceptions, coloring by lactose value directly obscures the differences on the lower end of the distribution, so coloring by log lactose attempts to fix that.  "
   ]
  },
  {
   "cell_type": "code",
   "execution_count": 37,
   "metadata": {},
   "outputs": [],
   "source": [
    "pca = PCA(n_components=2)\n",
    "pca_results = pd.DataFrame(pca.fit_transform(X),columns=['PC1','PC2'],index=X.index)"
   ]
  },
  {
   "cell_type": "code",
   "execution_count": 38,
   "metadata": {},
   "outputs": [
    {
     "data": {
      "text/plain": [
       "Text(0.5, 1.0, 'PCA, color by log lactose')"
      ]
     },
     "execution_count": 38,
     "metadata": {},
     "output_type": "execute_result"
    }
   ],
   "source": [
    "pca_results['lac.per.100g'] = Y\n",
    "pca_results['log.lac.per.100g'] = np.log(pca_results['lac.per.100g'] + .001)\n",
    "pca_results['log_nonzero.lac.per.100g'] = np.log(pca_results['lac.per.100g'])\n",
    "# cmap = cm.get_cmap('Spectral')\n",
    "ax = pca_results.plot.scatter('PC1','PC2',c='log_nonzero.lac.per.100g',colormap='winter',ax=axes[0,0])\n",
    "axes[0,0].set_xlabel('PC1')\n",
    "axes[0,0].set_title('PCA, color by log lactose (nonzero only)')\n",
    "plt.show()\n",
    "ax = pca_results.plot.scatter('PC1','PC2',c='log.lac.per.100g',colormap='winter',ax=axes[0,1])\n",
    "axes[0,1].set_xlabel('PC1')\n",
    "axes[0,1].set_title('PCA, color by log lactose')"
   ]
  },
  {
   "cell_type": "markdown",
   "metadata": {},
   "source": [
    "### t-SNE"
   ]
  },
  {
   "cell_type": "markdown",
   "metadata": {},
   "source": [
    "The same plots are created using t-SNE, a different visualization technique."
   ]
  },
  {
   "cell_type": "code",
   "execution_count": 39,
   "metadata": {},
   "outputs": [],
   "source": [
    "tsne = TSNE(n_components=2,perplexity=30)\n",
    "tsne_results = pd.DataFrame(tsne.fit_transform(X),columns=['axis 1','axis 2'],index=X.index)"
   ]
  },
  {
   "cell_type": "code",
   "execution_count": 40,
   "metadata": {},
   "outputs": [
    {
     "data": {
      "text/plain": [
       "Text(0.5, 1.0, 't-SNE, color by log lactose')"
      ]
     },
     "execution_count": 40,
     "metadata": {},
     "output_type": "execute_result"
    }
   ],
   "source": [
    "tsne_results['lac.per.100g'] = Y\n",
    "tsne_results['log.lac.per.100g'] = np.log(tsne_results['lac.per.100g'] + .001)\n",
    "tsne_results['log_nonzero.lac.per.100g'] = np.log(tsne_results['lac.per.100g'])\n",
    "# cmap = cm.get_cmap('Spectral')\n",
    "ax = tsne_results.plot.scatter('axis 1','axis 2',c='log_nonzero.lac.per.100g',colormap='winter',ax=axes[1,0])\n",
    "axes[1,0].set_xlabel('axis 1')\n",
    "axes[1,0].set_title('t-SNE, color by log lactose (nonzero only)')\n",
    "\n",
    "ax = tsne_results.plot.scatter('axis 1','axis 2',c='log.lac.per.100g',colormap='winter',ax=axes[1,1])\n",
    "axes[1,1].set_xlabel('axis 1')\n",
    "axes[1,1].set_title('t-SNE, color by log lactose')"
   ]
  },
  {
   "cell_type": "code",
   "execution_count": 41,
   "metadata": {},
   "outputs": [
    {
     "data": {
      "image/png": "[encoded data removed]",
      "text/plain": [
       "<Figure size 432x432 with 8 Axes>"
      ]
     },
     "execution_count": 41,
     "metadata": {},
     "output_type": "execute_result"
    }
   ],
   "source": [
    "f"
   ]
  },
  {
   "cell_type": "markdown",
   "metadata": {},
   "source": [
    "### Save preprocessed data to pickle files"
   ]
  },
  {
   "cell_type": "code",
   "execution_count": 60,
   "metadata": {},
   "outputs": [
    {
     "name": "stdout",
     "output_type": "stream",
     "text": [
      "saved to ../pkl/data/data_outliers_removed\n"
     ]
    }
   ],
   "source": [
    "data_to_save = [X, Y]\n",
    "data_dir = '../pkl/data/'\n",
    "try:\n",
    "    os.makedirs(data_dir)\n",
    "except FileExistsError:\n",
    "    pass\n",
    "\n",
    "save_string = \"data_outliers_removed\"\n",
    "\n",
    "with open(data_dir + save_string, \"wb\" ) as f:\n",
    "    pkl.dump(data_to_save,f)\n",
    "\n",
    "print('saved to {}'.format(data_dir + save_string))"
   ]
  },
  {
   "cell_type": "markdown",
   "metadata": {},
   "source": [
    "## Modelling with Lasso"
   ]
  },
  {
   "cell_type": "markdown",
   "metadata": {},
   "source": [
    "We will use the below splitter for cross-validation: 10 folds, with shuffling"
   ]
  },
  {
   "cell_type": "code",
   "execution_count": 42,
   "metadata": {},
   "outputs": [],
   "source": [
    "splitter= KFold(n_splits=10,shuffle=True,random_state=7)"
   ]
  },
  {
   "cell_type": "markdown",
   "metadata": {},
   "source": [
    "### Baseline Models\n"
   ]
  },
  {
   "cell_type": "code",
   "execution_count": 43,
   "metadata": {},
   "outputs": [],
   "source": [
    "scoring = {'r2':make_scorer(r2_score), \n",
    "           'SRC':make_scorer(spearman), \n",
    "           'PCC':make_scorer(pearson), \n",
    "           'MI':make_scorer(mutual_info_score), \n",
    "           'MAE':make_scorer(mean_absolute_error)}\n",
    "# scoring = [r2_score]"
   ]
  },
  {
   "cell_type": "code",
   "execution_count": 44,
   "metadata": {},
   "outputs": [],
   "source": [
    "overall_results = pd.DataFrame(columns=scoring.keys())"
   ]
  },
  {
   "cell_type": "markdown",
   "metadata": {},
   "source": [
    "#### Mean"
   ]
  },
  {
   "cell_type": "markdown",
   "metadata": {},
   "source": [
    "The prediction for each food is the mean of the training lactose values\n",
    "\n",
    "> The first will just assume that the lactose content in any sample is the mean (or median if you have wild outliers)"
   ]
  },
  {
   "cell_type": "code",
   "execution_count": 45,
   "metadata": {},
   "outputs": [
    {
     "data": {
      "text/html": [
       "<div>\n",
       "<style scoped>\n",
       "    .dataframe tbody tr th:only-of-type {\n",
       "        vertical-align: middle;\n",
       "    }\n",
       "\n",
       "    .dataframe tbody tr th {\n",
       "        vertical-align: top;\n",
       "    }\n",
       "\n",
       "    .dataframe thead th {\n",
       "        text-align: right;\n",
       "    }\n",
       "</style>\n",
       "<table border=\"1\" class=\"dataframe\">\n",
       "  <thead>\n",
       "    <tr style=\"text-align: right;\">\n",
       "      <th></th>\n",
       "      <th>r2</th>\n",
       "      <th>SRC</th>\n",
       "      <th>PCC</th>\n",
       "      <th>MI</th>\n",
       "      <th>MAE</th>\n",
       "    </tr>\n",
       "  </thead>\n",
       "  <tbody>\n",
       "    <tr>\n",
       "      <th>Dummy Mean</th>\n",
       "      <td>-0.02</td>\n",
       "      <td>0</td>\n",
       "      <td>-0</td>\n",
       "      <td>-0</td>\n",
       "      <td>1.94</td>\n",
       "    </tr>\n",
       "  </tbody>\n",
       "</table>\n",
       "</div>"
      ],
      "text/plain": [
       "              r2 SRC PCC MI   MAE\n",
       "Dummy Mean -0.02   0  -0 -0  1.94"
      ]
     },
     "execution_count": 45,
     "metadata": {},
     "output_type": "execute_result"
    }
   ],
   "source": [
    "dummy_mean = DummyRegressor(strategy='mean')\n",
    "dummy_mean_raw_results = cross_validate(dummy_mean,X,Y,cv=splitter,scoring=scoring)\n",
    "dummy_mean_scores = {}\n",
    "\n",
    "for score_name in scoring.keys():\n",
    "#     dummy_mean_scores[score_name] = np.round(np.mean(dummy_mean_raw_results['test_'+score_name]),2)\n",
    "    overall_results.loc['Dummy Mean',score_name] = np.round(np.mean(dummy_mean_raw_results['test_'+score_name]),2)\n",
    "overall_results"
   ]
  },
  {
   "cell_type": "markdown",
   "metadata": {},
   "source": [
    "#### Median of all values"
   ]
  },
  {
   "cell_type": "markdown",
   "metadata": {},
   "source": [
    "The prediction for each food is the median of the training lactose values\n",
    "> The first will just assume that the lactose content in any sample is the mean (or median if you have wild outliers)"
   ]
  },
  {
   "cell_type": "code",
   "execution_count": 47,
   "metadata": {},
   "outputs": [
    {
     "data": {
      "text/html": [
       "<div>\n",
       "<style scoped>\n",
       "    .dataframe tbody tr th:only-of-type {\n",
       "        vertical-align: middle;\n",
       "    }\n",
       "\n",
       "    .dataframe tbody tr th {\n",
       "        vertical-align: top;\n",
       "    }\n",
       "\n",
       "    .dataframe thead th {\n",
       "        text-align: right;\n",
       "    }\n",
       "</style>\n",
       "<table border=\"1\" class=\"dataframe\">\n",
       "  <thead>\n",
       "    <tr style=\"text-align: right;\">\n",
       "      <th></th>\n",
       "      <th>r2</th>\n",
       "      <th>SRC</th>\n",
       "      <th>PCC</th>\n",
       "      <th>MI</th>\n",
       "      <th>MAE</th>\n",
       "    </tr>\n",
       "  </thead>\n",
       "  <tbody>\n",
       "    <tr>\n",
       "      <th>Dummy Mean</th>\n",
       "      <td>-0.02</td>\n",
       "      <td>0</td>\n",
       "      <td>-0</td>\n",
       "      <td>-0</td>\n",
       "      <td>1.94</td>\n",
       "    </tr>\n",
       "    <tr>\n",
       "      <th>Dummy Median All</th>\n",
       "      <td>-0.32</td>\n",
       "      <td>0</td>\n",
       "      <td>-0</td>\n",
       "      <td>-0</td>\n",
       "      <td>1.68</td>\n",
       "    </tr>\n",
       "  </tbody>\n",
       "</table>\n",
       "</div>"
      ],
      "text/plain": [
       "                    r2 SRC PCC MI   MAE\n",
       "Dummy Mean       -0.02   0  -0 -0  1.94\n",
       "Dummy Median All -0.32   0  -0 -0  1.68"
      ]
     },
     "execution_count": 47,
     "metadata": {},
     "output_type": "execute_result"
    }
   ],
   "source": [
    "dummy_median_all = DummyRegressor(strategy='median')\n",
    "dummy_median_all_raw_results = cross_validate(dummy_median_all,X,Y,cv=splitter,scoring=scoring)\n",
    "dummy_median_all_scores = {}\n",
    "\n",
    "for score_name in scoring.keys():\n",
    "    overall_results.loc['Dummy Median All',score_name] = np.round(np.mean(dummy_median_all_raw_results['test_'+score_name]),2)\n",
    "overall_results"
   ]
  },
  {
   "cell_type": "markdown",
   "metadata": {},
   "source": [
    "#### Median  of nonzero values"
   ]
  },
  {
   "cell_type": "markdown",
   "metadata": {},
   "source": [
    "The prediction for each food is the median of the _non-zero_ training lactose values\n",
    "> the first says all have lactose with the median value of the lactose foods as the prediction for all samples"
   ]
  },
  {
   "cell_type": "code",
   "execution_count": 48,
   "metadata": {},
   "outputs": [
    {
     "data": {
      "text/html": [
       "<div>\n",
       "<style scoped>\n",
       "    .dataframe tbody tr th:only-of-type {\n",
       "        vertical-align: middle;\n",
       "    }\n",
       "\n",
       "    .dataframe tbody tr th {\n",
       "        vertical-align: top;\n",
       "    }\n",
       "\n",
       "    .dataframe thead th {\n",
       "        text-align: right;\n",
       "    }\n",
       "</style>\n",
       "<table border=\"1\" class=\"dataframe\">\n",
       "  <thead>\n",
       "    <tr style=\"text-align: right;\">\n",
       "      <th></th>\n",
       "      <th>r2</th>\n",
       "      <th>SRC</th>\n",
       "      <th>PCC</th>\n",
       "      <th>MI</th>\n",
       "      <th>MAE</th>\n",
       "    </tr>\n",
       "  </thead>\n",
       "  <tbody>\n",
       "    <tr>\n",
       "      <th>Dummy Mean</th>\n",
       "      <td>-0.02</td>\n",
       "      <td>0</td>\n",
       "      <td>-0</td>\n",
       "      <td>-0</td>\n",
       "      <td>1.94</td>\n",
       "    </tr>\n",
       "    <tr>\n",
       "      <th>Dummy Median All</th>\n",
       "      <td>-0.32</td>\n",
       "      <td>0</td>\n",
       "      <td>-0</td>\n",
       "      <td>-0</td>\n",
       "      <td>1.68</td>\n",
       "    </tr>\n",
       "    <tr>\n",
       "      <th>Dummy Median Nonzero</th>\n",
       "      <td>-0.08</td>\n",
       "      <td>0</td>\n",
       "      <td>-0</td>\n",
       "      <td>-0</td>\n",
       "      <td>1.77</td>\n",
       "    </tr>\n",
       "  </tbody>\n",
       "</table>\n",
       "</div>"
      ],
      "text/plain": [
       "                        r2 SRC PCC MI   MAE\n",
       "Dummy Mean           -0.02   0  -0 -0  1.94\n",
       "Dummy Median All     -0.32   0  -0 -0  1.68\n",
       "Dummy Median Nonzero -0.08   0  -0 -0  1.77"
      ]
     },
     "execution_count": 48,
     "metadata": {},
     "output_type": "execute_result"
    }
   ],
   "source": [
    "dummy_median_nonzero = DummyRegressorCustom(strategy='median_nonzero',constant=np.median(Y[Y > 0]))\n",
    "dummy_median_nonzero_raw_results = cross_validate(dummy_median_nonzero,X,Y,cv=splitter,scoring=scoring)\n",
    "dummy_median_nonzero_scores = {}\n",
    "\n",
    "\n",
    "for score_name in scoring.keys():\n",
    "    overall_results.loc['Dummy Median Nonzero',score_name] = np.round(np.mean(dummy_median_nonzero_raw_results['test_'+score_name]),2)\n",
    "overall_results"
   ]
  },
  {
   "cell_type": "markdown",
   "metadata": {},
   "source": [
    "#### Perfect classifier plus mean regressor\n",
    "- This classifier predicts 0 where the true value is 0, or the mean of the training lactose values where the true value is nonzero\n",
    "\n",
    "- See dairyml.py for implementation\n",
    "\n",
    "(This class is not compliant with sklearn conventions, this was the easiest implementation I could think of to include perfect classification)"
   ]
  },
  {
   "cell_type": "code",
   "execution_count": 49,
   "metadata": {},
   "outputs": [],
   "source": [
    "scoring_pcmr = {'r2':r2_score, \n",
    "           'SRC':spearman, \n",
    "           'PCC':pearson, \n",
    "           'MI':mutual_info_score, \n",
    "           'MAE':mean_absolute_error}"
   ]
  },
  {
   "cell_type": "code",
   "execution_count": 50,
   "metadata": {},
   "outputs": [
    {
     "data": {
      "text/html": [
       "<div>\n",
       "<style scoped>\n",
       "    .dataframe tbody tr th:only-of-type {\n",
       "        vertical-align: middle;\n",
       "    }\n",
       "\n",
       "    .dataframe tbody tr th {\n",
       "        vertical-align: top;\n",
       "    }\n",
       "\n",
       "    .dataframe thead th {\n",
       "        text-align: right;\n",
       "    }\n",
       "</style>\n",
       "<table border=\"1\" class=\"dataframe\">\n",
       "  <thead>\n",
       "    <tr style=\"text-align: right;\">\n",
       "      <th></th>\n",
       "      <th>r2</th>\n",
       "      <th>SRC</th>\n",
       "      <th>PCC</th>\n",
       "      <th>MI</th>\n",
       "      <th>MAE</th>\n",
       "    </tr>\n",
       "  </thead>\n",
       "  <tbody>\n",
       "    <tr>\n",
       "      <th>Dummy Mean</th>\n",
       "      <td>-0.02</td>\n",
       "      <td>0</td>\n",
       "      <td>-0</td>\n",
       "      <td>-0</td>\n",
       "      <td>1.94</td>\n",
       "    </tr>\n",
       "    <tr>\n",
       "      <th>Dummy Median All</th>\n",
       "      <td>-0.32</td>\n",
       "      <td>0</td>\n",
       "      <td>-0</td>\n",
       "      <td>-0</td>\n",
       "      <td>1.68</td>\n",
       "    </tr>\n",
       "    <tr>\n",
       "      <th>Dummy Median Nonzero</th>\n",
       "      <td>-0.08</td>\n",
       "      <td>0</td>\n",
       "      <td>-0</td>\n",
       "      <td>-0</td>\n",
       "      <td>1.77</td>\n",
       "    </tr>\n",
       "    <tr>\n",
       "      <th>Perfect Clasif., Mean Regr.</th>\n",
       "      <td>0.13</td>\n",
       "      <td>0.73</td>\n",
       "      <td>0.41</td>\n",
       "      <td>0.53</td>\n",
       "      <td>1.53</td>\n",
       "    </tr>\n",
       "  </tbody>\n",
       "</table>\n",
       "</div>"
      ],
      "text/plain": [
       "                               r2   SRC   PCC    MI   MAE\n",
       "Dummy Mean                  -0.02     0    -0    -0  1.94\n",
       "Dummy Median All            -0.32     0    -0    -0  1.68\n",
       "Dummy Median Nonzero        -0.08     0    -0    -0  1.77\n",
       "Perfect Clasif., Mean Regr.  0.13  0.73  0.41  0.53  1.53"
      ]
     },
     "execution_count": 50,
     "metadata": {},
     "output_type": "execute_result"
    }
   ],
   "source": [
    "pcmr = PerfectClassifierMeanRegressor()\n",
    "pcmr.fit(X,Y)\n",
    "dummy_pcmr_raw_results = pcmr.cross_val(scoring=scoring_pcmr)\n",
    "dummy_median_scores = {}\n",
    "\n",
    "for score_name in scoring.keys():\n",
    "    overall_results.loc['Perfect Clasif., Mean Regr.',score_name] = np.round(np.mean(dummy_pcmr_raw_results[score_name]),2)\n",
    "overall_results"
   ]
  },
  {
   "cell_type": "markdown",
   "metadata": {},
   "source": [
    "### Lasso\n",
    "\n",
    "- Conduct a grid search on the regularization parameter alpha on a log scale between 1e-3 and 1 (np.logspace takes exponents of 10 as arguments)\n",
    "- For each value of alpha in this range, we perform 10-fold cross validation (CV) on the training data\n",
    "- Choose the best model based on R^2 score in CV using the `refit` argument of `GridSearchCV`"
   ]
  },
  {
   "cell_type": "code",
   "execution_count": 29,
   "metadata": {},
   "outputs": [
    {
     "data": {
      "text/plain": [
       "GridSearchCV(cv=10, error_score='raise-deprecating',\n",
       "       estimator=Lasso(alpha=1.0, copy_X=True, fit_intercept=True, max_iter=1000,\n",
       "   normalize=False, positive=False, precompute=False, random_state=None,\n",
       "   selection='cyclic', tol=0.0001, warm_start=False),\n",
       "       fit_params=None, iid='warn', n_jobs=None,\n",
       "       param_grid={'alpha': array([0.001  , 0.00115, 0.00133, 0.00153, 0.00176, 0.00202, 0.00233,\n",
       "       0.00268, 0.00309, 0.00356, 0.00409, 0.00471, 0.00543, 0.00625,\n",
       "       0.0072 , 0.00829, 0.00954, 0.01099, 0.01265, 0.01456, 0.01677,\n",
       "       0.01931, 0.02223, 0.0256 , 0.02947, 0.03393, 0.03907, 0.04498,...18, 0.32375,\n",
       "       0.37276, 0.42919, 0.49417, 0.56899, 0.65513, 0.75431, 0.86851,\n",
       "       1.     ])},\n",
       "       pre_dispatch='2*n_jobs', refit='r2', return_train_score='warn',\n",
       "       scoring={'r2': make_scorer(r2_score), 'SRC': make_scorer(spearman), 'PCC': make_scorer(pearson), 'MI': make_scorer(mutual_info_score), 'MAE': make_scorer(mean_absolute_error)},\n",
       "       verbose=0)"
      ]
     },
     "execution_count": 29,
     "metadata": {},
     "output_type": "execute_result"
    }
   ],
   "source": [
    "param_grid = {'alpha': np.logspace(-3, 0, 50)}\n",
    "\n",
    "refit = 'r2'\n",
    "\n",
    "search = GridSearchCV(estimator=Lasso(),param_grid=param_grid,scoring=scoring,refit=refit,cv=10)\n",
    "search.fit(X,Y)"
   ]
  },
  {
   "cell_type": "markdown",
   "metadata": {},
   "source": [
    "#### Best value of alpha for Lasso\n",
    "Print the best value of the regularization parameter, as chosen by 10-fold CV R^2 score above"
   ]
  },
  {
   "cell_type": "code",
   "execution_count": 30,
   "metadata": {},
   "outputs": [
    {
     "data": {
      "text/plain": [
       "0.0517947467923121"
      ]
     },
     "execution_count": 30,
     "metadata": {},
     "output_type": "execute_result"
    }
   ],
   "source": [
    "search.best_estimator_.alpha"
   ]
  },
  {
   "cell_type": "markdown",
   "metadata": {},
   "source": [
    "#### Lasso test performance\n",
    "Highest R^2 score for the Lasso model from 10-fold CV (this is the performance we can expect on the test set)"
   ]
  },
  {
   "cell_type": "code",
   "execution_count": 31,
   "metadata": {},
   "outputs": [
    {
     "data": {
      "text/plain": [
       "0.36358761906352877"
      ]
     },
     "execution_count": 31,
     "metadata": {},
     "output_type": "execute_result"
    }
   ],
   "source": [
    "search.cv_results_['mean_test_r2'][np.argmax(search.cv_results_['mean_test_'+refit])]"
   ]
  },
  {
   "cell_type": "markdown",
   "metadata": {},
   "source": [
    "#### Model performance after refitting to the full training set\n",
    "\n",
    "To take advantage of all the available data, we refit the model to the full training set. (This happens above in `GridSearchCV` automatically). Below we report the \"training\" R^2 value:"
   ]
  },
  {
   "cell_type": "code",
   "execution_count": 32,
   "metadata": {},
   "outputs": [
    {
     "data": {
      "text/plain": [
       "0.6759509859803272"
      ]
     },
     "execution_count": 32,
     "metadata": {},
     "output_type": "execute_result"
    }
   ],
   "source": [
    "search.score(X,Y)"
   ]
  },
  {
   "cell_type": "code",
   "execution_count": 33,
   "metadata": {},
   "outputs": [
    {
     "data": {
      "image/png": "[encoded data removed]",
      "text/plain": [
       "<Figure size 432x288 with 1 Axes>"
      ]
     },
     "metadata": {
      "needs_background": "light"
     },
     "output_type": "display_data"
    }
   ],
   "source": [
    "plot_r2(search,'Lasso',X,Y)"
   ]
  },
  {
   "cell_type": "markdown",
   "metadata": {},
   "source": [
    "### Bounded Lasso\n",
    "This attempts to fix an obvious issue with the above predictor, that the model predicts negative lactose content for some foods. BoundedLasso wraps sklearn's Lasso model, and \"clips\" the model output so that negative output values become 0. "
   ]
  },
  {
   "cell_type": "code",
   "execution_count": 34,
   "metadata": {},
   "outputs": [
    {
     "data": {
      "text/plain": [
       "GridSearchCV(cv=10, error_score='raise-deprecating',\n",
       "       estimator=BoundedLasso(alpha=None), fit_params=None, iid='warn',\n",
       "       n_jobs=None,\n",
       "       param_grid={'alpha': array([0.001  , 0.00107, ..., 0.9326 , 1.     ])},\n",
       "       pre_dispatch='2*n_jobs', refit='r2', return_train_score='warn',\n",
       "       scoring={'r2': make_scorer(r2_score), 'SRC': make_scorer(spearman), 'PCC': make_scorer(pearson), 'MI': make_scorer(mutual_info_score), 'MAE': make_scorer(mean_absolute_error)},\n",
       "       verbose=0)"
      ]
     },
     "execution_count": 34,
     "metadata": {},
     "output_type": "execute_result"
    }
   ],
   "source": [
    "param_grid = {'alpha': np.logspace(-3, 0, 100)}\n",
    "\n",
    "refit = 'r2'\n",
    "\n",
    "search = GridSearchCV(estimator=BoundedLasso(),param_grid=param_grid,scoring=scoring,refit=refit,cv=10)\n",
    "search.fit(X,Y)"
   ]
  },
  {
   "cell_type": "markdown",
   "metadata": {},
   "source": [
    "#### Best value of alpha for Bounded Lasso\n",
    "Print the best value of the regularization parameter, as chosen by 10-fold CV R^2 score above"
   ]
  },
  {
   "cell_type": "code",
   "execution_count": 35,
   "metadata": {},
   "outputs": [
    {
     "data": {
      "text/plain": [
       "0.04328761281083059"
      ]
     },
     "execution_count": 35,
     "metadata": {},
     "output_type": "execute_result"
    }
   ],
   "source": [
    "search.best_estimator_.alpha"
   ]
  },
  {
   "cell_type": "markdown",
   "metadata": {},
   "source": [
    "#### Bounded Lasso test performance\n",
    "Highest R^2 score for the Lasso model from 10-fold CV (this is the performance we can expect on the test set)\n",
    "\n",
    "Performance has improved slightly over the regular Lasso model, from .36 to .38"
   ]
  },
  {
   "cell_type": "code",
   "execution_count": 36,
   "metadata": {},
   "outputs": [
    {
     "data": {
      "text/plain": [
       "0.38489032671670603"
      ]
     },
     "execution_count": 36,
     "metadata": {},
     "output_type": "execute_result"
    }
   ],
   "source": [
    "search.cv_results_['mean_test_r2'][np.argmax(search.cv_results_['mean_test_'+refit])]"
   ]
  },
  {
   "cell_type": "markdown",
   "metadata": {},
   "source": [
    "#### Bounded Lasso performance after refitting to the full training set\n",
    "\n",
    "To take advantage of all the available data, we refit the model to the full training set. (This happens above in `GridSearchCV` automatically). Below we report the \"training\" R^2 value:"
   ]
  },
  {
   "cell_type": "code",
   "execution_count": 37,
   "metadata": {},
   "outputs": [
    {
     "data": {
      "text/plain": [
       "0.7015004716693365"
      ]
     },
     "execution_count": 37,
     "metadata": {},
     "output_type": "execute_result"
    }
   ],
   "source": [
    "search.score(X,Y)"
   ]
  },
  {
   "cell_type": "code",
   "execution_count": 38,
   "metadata": {},
   "outputs": [
    {
     "data": {
      "image/png": "[encoded data removed]",
      "text/plain": [
       "<Figure size 432x288 with 1 Axes>"
      ]
     },
     "metadata": {
      "needs_background": "light"
     },
     "output_type": "display_data"
    }
   ],
   "source": [
    "plot_r2(search,'Bounded Lasso',X,Y)"
   ]
  },
  {
   "cell_type": "markdown",
   "metadata": {},
   "source": [
    "#### Feature importances\n",
    "Here we plot the non-zero coefficients of the Bounded Lasso model. The magnitude of the coefficient for each feature indicates how much each feature contributes to the overall lactose estimate. We can see that choline, sugar, and potassium contribute positively to the lactose estimate, while fiber, cholesterol, and protein contribute negatively. "
   ]
  },
  {
   "cell_type": "code",
   "execution_count": 39,
   "metadata": {},
   "outputs": [
    {
     "data": {
      "image/png": "[encoded data removed]",
      "text/plain": [
       "<Figure size 432x288 with 1 Axes>"
      ]
     },
     "metadata": {
      "needs_background": "light"
     },
     "output_type": "display_data"
    }
   ],
   "source": [
    "plot_coefficients(search.best_estimator_,X)"
   ]
  },
  {
   "cell_type": "markdown",
   "metadata": {},
   "source": [
    "#### Compare Lasso feature importances to coefficients from PCA"
   ]
  },
  {
   "cell_type": "code",
   "execution_count": 40,
   "metadata": {},
   "outputs": [],
   "source": [
    "pca_coefs = pd.DataFrame(pca.components_[0],columns=['PC1 coefficients'],index=numerical_features)"
   ]
  },
  {
   "cell_type": "code",
   "execution_count": 41,
   "metadata": {},
   "outputs": [
    {
     "data": {
      "text/plain": [
       "Text(0.5, 1.0, 'PC1 coefficients')"
      ]
     },
     "execution_count": 41,
     "metadata": {},
     "output_type": "execute_result"
    },
    {
     "data": {
      "image/png": "[encoded data removed]",
      "text/plain": [
       "<Figure size 432x288 with 1 Axes>"
      ]
     },
     "metadata": {
      "needs_background": "light"
     },
     "output_type": "display_data"
    }
   ],
   "source": [
    "axs = pca_coefs.sort_values('PC1 coefficients').plot.barh()\n",
    "axs.set_title('PC1 coefficients')"
   ]
  },
  {
   "cell_type": "code",
   "execution_count": 42,
   "metadata": {},
   "outputs": [
    {
     "data": {
      "text/html": [
       "<div>\n",
       "<style scoped>\n",
       "    .dataframe tbody tr th:only-of-type {\n",
       "        vertical-align: middle;\n",
       "    }\n",
       "\n",
       "    .dataframe tbody tr th {\n",
       "        vertical-align: top;\n",
       "    }\n",
       "\n",
       "    .dataframe thead th {\n",
       "        text-align: right;\n",
       "    }\n",
       "</style>\n",
       "<table border=\"1\" class=\"dataframe\">\n",
       "  <thead>\n",
       "    <tr style=\"text-align: right;\">\n",
       "      <th></th>\n",
       "      <th>PC1 coefficients</th>\n",
       "      <th>bounded lasso coefs</th>\n",
       "    </tr>\n",
       "  </thead>\n",
       "  <tbody>\n",
       "    <tr>\n",
       "      <th>PC1 coefficients</th>\n",
       "      <td>1.000000</td>\n",
       "      <td>0.223738</td>\n",
       "    </tr>\n",
       "    <tr>\n",
       "      <th>bounded lasso coefs</th>\n",
       "      <td>0.223738</td>\n",
       "      <td>1.000000</td>\n",
       "    </tr>\n",
       "  </tbody>\n",
       "</table>\n",
       "</div>"
      ],
      "text/plain": [
       "                     PC1 coefficients  bounded lasso coefs\n",
       "PC1 coefficients             1.000000             0.223738\n",
       "bounded lasso coefs          0.223738             1.000000"
      ]
     },
     "execution_count": 42,
     "metadata": {},
     "output_type": "execute_result"
    }
   ],
   "source": [
    "bounded_lasso_coefs = pd.DataFrame(search.best_estimator_.get_coef(),columns=['bounded lasso coefs'],index=numerical_features)\n",
    "coefs_compare = pd.concat([pca_coefs, bounded_lasso_coefs],axis=1)\n",
    "coefs_compare.corr(method='spearman')"
   ]
  },
  {
   "cell_type": "markdown",
   "metadata": {},
   "source": [
    "### Bounded Lasso plus Classifier\n",
    "- Add a binary classifier to the model to predict whether a food is zero or non-zero lactose. \n",
    "- In the case that the classifier predicts 0 lactose, the overall model output is 0. \n",
    "- In the case that the classifier predicts non-zero, the output from the bounded lasso model is used\n",
    "\n",
    "#### Evaluate the classifier by itself"
   ]
  },
  {
   "cell_type": "code",
   "execution_count": 51,
   "metadata": {},
   "outputs": [
    {
     "data": {
      "text/plain": [
       "GridSearchCV(cv=10, error_score='raise-deprecating',\n",
       "       estimator=LogisticRegression(C=1.0, class_weight=None, dual=False, fit_intercept=True,\n",
       "          intercept_scaling=1, max_iter=2000, multi_class='warn',\n",
       "          n_jobs=None, penalty='l2', random_state=None, solver='lbfgs',\n",
       "          tol=0.0001, verbose=0, warm_start=False),\n",
       "       fit_params=None, iid='warn', n_jobs=None,\n",
       "       param_grid={'C': array([1.00000e-04, 1.88739e-04, 3.56225e-04, 6.72336e-04, 1.26896e-03,\n",
       "       2.39503e-03, 4.52035e-03, 8.53168e-03, 1.61026e-02, 3.03920e-02,\n",
       "       5.73615e-02, 1.08264e-01, 2.04336e-01, 3.85662e-01, 7.27895e-01,\n",
       "       1.37382e+00, 2.59294e+00, 4.89390e+00, 9.23671e+00, 1.74333e+01,\n",
       "       3.29034e+01, 6.21017e+01, 1.17210e+02, 2.21222e+02, 4.17532e+02,\n",
       "       7.88046e+02, 1.48735e+03, 2.80722e+03, 5.29832e+03, 1.00000e+04])},\n",
       "       pre_dispatch='2*n_jobs', refit='accuracy',\n",
       "       return_train_score='warn', scoring=('accuracy', 'recall'),\n",
       "       verbose=0)"
      ]
     },
     "execution_count": 51,
     "metadata": {},
     "output_type": "execute_result"
    }
   ],
   "source": [
    "Y_binary = Y != 0\n",
    "\n",
    "param_grid_LR = {'C': np.logspace(-4, 4, 30)}\n",
    "\n",
    "search_LR = GridSearchCV(estimator=LogisticRegression(solver='lbfgs',max_iter=2000),param_grid=param_grid_LR,scoring=('accuracy','recall'),refit='accuracy',cv=10)\n",
    "search_LR.fit(X,Y_binary)\n",
    "\n",
    "# param_grid_SVC = {'C': np.logspace(-4, 4, 30)}\n",
    "# search_SVC = GridSearchCV(estimator=SVC(kernel='rbf'),param_grid=param_grid_SVC,scoring=('accuracy','recall'),refit='accuracy',cv=10)\n",
    "# search_SVC.fit(X,Y_binary)"
   ]
  },
  {
   "cell_type": "markdown",
   "metadata": {},
   "source": [
    "#### Classifier accuracy\n",
    "The classifier achieves 89% accuracy in predicting 0 vs non-zero lactose."
   ]
  },
  {
   "cell_type": "code",
   "execution_count": 52,
   "metadata": {},
   "outputs": [
    {
     "data": {
      "text/plain": [
       "0.8873994638069705"
      ]
     },
     "execution_count": 52,
     "metadata": {},
     "output_type": "execute_result"
    }
   ],
   "source": [
    "search_LR.best_score_"
   ]
  },
  {
   "cell_type": "markdown",
   "metadata": {},
   "source": [
    "### Evaluate the Bounded Lasso + Classifier Model"
   ]
  },
  {
   "cell_type": "code",
   "execution_count": 53,
   "metadata": {},
   "outputs": [
    {
     "data": {
      "text/plain": [
       "GridSearchCV(cv=KFold(n_splits=10, random_state=7, shuffle=True),\n",
       "       error_score='raise-deprecating',\n",
       "       estimator=BoundedLassoPlusLogReg(C=None, alpha=None),\n",
       "       fit_params=None, iid='warn', n_jobs=None,\n",
       "       param_grid={'alpha': array([0.001  , 0.00167, 0.00278, 0.00464, 0.00774, 0.01292, 0.02154,\n",
       "       0.03594, 0.05995, 0.1    ]), 'C': array([1.00000e-04, 7.74264e-04, 5.99484e-03, 4.64159e-02, 3.59381e-01,\n",
       "       2.78256e+00, 2.15443e+01, 1.66810e+02, 1.29155e+03, 1.00000e+04])},\n",
       "       pre_dispatch='2*n_jobs', refit='r2', return_train_score='warn',\n",
       "       scoring={'r2': make_scorer(r2_score), 'SRC': make_scorer(spearman), 'PCC': make_scorer(pearson), 'MI': make_scorer(mutual_info_score), 'MAE': make_scorer(mean_absolute_error)},\n",
       "       verbose=0)"
      ]
     },
     "execution_count": 53,
     "metadata": {},
     "output_type": "execute_result"
    }
   ],
   "source": [
    "param_grid = {'alpha': np.logspace(-3, -1, 10), 'C': np.logspace(-4, 4, 10)}\n",
    "refit='r2'\n",
    "search = GridSearchCV(estimator=BoundedLassoPlusLogReg(),param_grid=param_grid,scoring=scoring,refit=refit,cv=splitter)\n",
    "search.fit(X,Y)"
   ]
  },
  {
   "cell_type": "markdown",
   "metadata": {},
   "source": [
    "#### Plot actual vs predicted results"
   ]
  },
  {
   "cell_type": "code",
   "execution_count": 54,
   "metadata": {},
   "outputs": [],
   "source": [
    "y_pred = cross_val_predict(search.best_estimator_,X,Y,cv=splitter)"
   ]
  },
  {
   "cell_type": "code",
   "execution_count": 55,
   "metadata": {},
   "outputs": [
    {
     "data": {
      "image/png": "[encoded data removed]",
      "text/plain": [
       "<Figure size 576x576 with 1 Axes>"
      ]
     },
     "metadata": {
      "needs_background": "light"
     },
     "output_type": "display_data"
    }
   ],
   "source": [
    "fig, ax = plt.subplots(figsize=[8,8])\n",
    "ax.scatter(Y, y_pred)\n",
    "ax.plot([Y.min(), Y.max()], [Y.min(), Y.max()], 'k--', lw=4)\n",
    "ax.set_xlabel('Actual')\n",
    "ax.set_ylabel('Predicted')\n",
    "ax.set_title('Bounded Lasso plus Logistic Regression \\n Actual vs Predicted lactose')\n",
    "plt.show()"
   ]
  },
  {
   "cell_type": "code",
   "execution_count": 56,
   "metadata": {},
   "outputs": [
    {
     "data": {
      "text/plain": [
       "{'C': 10000.0, 'alpha': 0.021544346900318832}"
      ]
     },
     "execution_count": 56,
     "metadata": {},
     "output_type": "execute_result"
    }
   ],
   "source": [
    "search.best_estimator_.get_params()"
   ]
  },
  {
   "cell_type": "markdown",
   "metadata": {},
   "source": [
    "#### Model test performance"
   ]
  },
  {
   "cell_type": "code",
   "execution_count": 57,
   "metadata": {},
   "outputs": [
    {
     "data": {
      "text/html": [
       "<div>\n",
       "<style scoped>\n",
       "    .dataframe tbody tr th:only-of-type {\n",
       "        vertical-align: middle;\n",
       "    }\n",
       "\n",
       "    .dataframe tbody tr th {\n",
       "        vertical-align: top;\n",
       "    }\n",
       "\n",
       "    .dataframe thead th {\n",
       "        text-align: right;\n",
       "    }\n",
       "</style>\n",
       "<table border=\"1\" class=\"dataframe\">\n",
       "  <thead>\n",
       "    <tr style=\"text-align: right;\">\n",
       "      <th></th>\n",
       "      <th>r2</th>\n",
       "      <th>SRC</th>\n",
       "      <th>PCC</th>\n",
       "      <th>MI</th>\n",
       "      <th>MAE</th>\n",
       "    </tr>\n",
       "  </thead>\n",
       "  <tbody>\n",
       "    <tr>\n",
       "      <th>Dummy Mean</th>\n",
       "      <td>-0.02</td>\n",
       "      <td>0</td>\n",
       "      <td>-0</td>\n",
       "      <td>-0</td>\n",
       "      <td>1.94</td>\n",
       "    </tr>\n",
       "    <tr>\n",
       "      <th>Dummy Median All</th>\n",
       "      <td>-0.32</td>\n",
       "      <td>0</td>\n",
       "      <td>-0</td>\n",
       "      <td>-0</td>\n",
       "      <td>1.68</td>\n",
       "    </tr>\n",
       "    <tr>\n",
       "      <th>Dummy Median Nonzero</th>\n",
       "      <td>-0.08</td>\n",
       "      <td>0</td>\n",
       "      <td>-0</td>\n",
       "      <td>-0</td>\n",
       "      <td>1.77</td>\n",
       "    </tr>\n",
       "    <tr>\n",
       "      <th>Perfect Clasif., Mean Regr.</th>\n",
       "      <td>0.13</td>\n",
       "      <td>0.73</td>\n",
       "      <td>0.41</td>\n",
       "      <td>0.53</td>\n",
       "      <td>1.53</td>\n",
       "    </tr>\n",
       "    <tr>\n",
       "      <th>Bounded Lasso + LogReg</th>\n",
       "      <td>0.64</td>\n",
       "      <td>0.8</td>\n",
       "      <td>0.82</td>\n",
       "      <td>2.64</td>\n",
       "      <td>0.86</td>\n",
       "    </tr>\n",
       "  </tbody>\n",
       "</table>\n",
       "</div>"
      ],
      "text/plain": [
       "                               r2   SRC   PCC    MI   MAE\n",
       "Dummy Mean                  -0.02     0    -0    -0  1.94\n",
       "Dummy Median All            -0.32     0    -0    -0  1.68\n",
       "Dummy Median Nonzero        -0.08     0    -0    -0  1.77\n",
       "Perfect Clasif., Mean Regr.  0.13  0.73  0.41  0.53  1.53\n",
       "Bounded Lasso + LogReg       0.64   0.8  0.82  2.64  0.86"
      ]
     },
     "execution_count": 57,
     "metadata": {},
     "output_type": "execute_result"
    }
   ],
   "source": [
    "for score_name in scoring.keys():\n",
    "    overall_results.loc['Bounded Lasso + LogReg',score_name] = np.round(search.cv_results_['mean_test_'+score_name][np.argmax(search.cv_results_['mean_test_'+refit])],2)\n",
    "overall_results"
   ]
  },
  {
   "cell_type": "code",
   "execution_count": null,
   "metadata": {},
   "outputs": [],
   "source": []
  }
 ],
 "metadata": {
  "kernelspec": {
   "display_name": "Python 3",
   "language": "python",
   "name": "python3"
  },
  "language_info": {
   "codemirror_mode": {
    "name": "ipython",
    "version": 3
   },
   "file_extension": ".py",
   "mimetype": "text/x-python",
   "name": "python",
   "nbconvert_exporter": "python",
   "pygments_lexer": "ipython3",
   "version": "3.6.7"
  }
 },
 "nbformat": 4,
 "nbformat_minor": 2
}
