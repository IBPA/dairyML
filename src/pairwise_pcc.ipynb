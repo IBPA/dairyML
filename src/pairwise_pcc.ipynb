{
 "cells": [
  {
   "cell_type": "code",
   "execution_count": 2,
   "metadata": {},
   "outputs": [],
   "source": [
    "import pandas as pd\n",
    "import numpy as np"
   ]
  },
  {
   "cell_type": "code",
   "execution_count": 12,
   "metadata": {},
   "outputs": [],
   "source": [
    "A= np.array([[ 10.  ,   8.04,   9.14,   7.46],\n",
    "       [  8.  ,   6.95,   8.14,   6.77],\n",
    "       [ 13.  ,   7.58,   8.74,  12.74],\n",
    "       [  9.  ,   8.81,   8.77,   7.11],\n",
    "       [ 11.  ,   8.33,   9.26,   7.81]])\n",
    "\n",
    "A = np.transpose(A)"
   ]
  },
  {
   "cell_type": "code",
   "execution_count": 13,
   "metadata": {},
   "outputs": [],
   "source": [
    "B = np.array([[-14.  ,  -9.96,   8.1 ,   8.84,   8.  ,   7.04],\n",
    "       [ -6.  ,  -7.24,   6.13,   6.08,   5.  ,   5.25],\n",
    "       [ -4.  ,  -4.26,   3.1 ,   5.39,   8.  ,   5.56],\n",
    "       [-12.  , -10.84,   9.13,   8.15,   5.  ,   7.91],\n",
    "       [ -7.  ,  -4.82,   7.26,   6.42,   8.  ,   6.89]])\n",
    "\n",
    "B = np.transpose(B)"
   ]
  },
  {
   "cell_type": "code",
   "execution_count": 38,
   "metadata": {},
   "outputs": [],
   "source": [
    "A = np.random.rand(300,60)\n",
    "B = np.random.rand(14000,60)"
   ]
  },
  {
   "cell_type": "code",
   "execution_count": 39,
   "metadata": {},
   "outputs": [],
   "source": [
    "#number of columns in A or B\n",
    "N = B.shape[1]\n",
    "\n",
    "# Store row-wise sums of A and B, as they would be used at few places\n",
    "sA = A.sum(1)\n",
    "sB = B.sum(1)\n",
    "\n",
    "# Basically there are four parts in the formula. We would compute them one-by-one\n",
    "p1 = N*np.einsum('ik,jk->ij',A,B)\n",
    "p2 = sB*sA[:,None]\n",
    "p3 = N*((B**2).sum(1)) - (sB**2)\n",
    "p4 = N*((A**2).sum(1)) - (sA**2)\n",
    "\n",
    "# Finally compute Pearson Correlation Coefficient as 2D array \n",
    "pcorr = ((p1 - p2)/np.sqrt(p3*p4[:,None]))"
   ]
  },
  {
   "cell_type": "code",
   "execution_count": 16,
   "metadata": {},
   "outputs": [],
   "source": [
    "A= np.array([[ 1  ,   2,   3],[1,3,2]])\n",
    "\n",
    "B = np.array([[2,3,1],[1,7,3],[5,2,8],[1,10,12]])"
   ]
  },
  {
   "cell_type": "code",
   "execution_count": 19,
   "metadata": {},
   "outputs": [
    {
     "ename": "ValueError",
     "evalue": "operands could not be broadcast together with shapes (2,3) (2,) ",
     "output_type": "error",
     "traceback": [
      "\u001b[1;31m---------------------------------------------------------------------------\u001b[0m",
      "\u001b[1;31mValueError\u001b[0m                                Traceback (most recent call last)",
      "\u001b[1;32m<ipython-input-19-b91392d38c41>\u001b[0m in \u001b[0;36m<module>\u001b[1;34m\u001b[0m\n\u001b[1;32m----> 1\u001b[1;33m \u001b[1;33m(\u001b[0m\u001b[0mA\u001b[0m\u001b[1;33m*\u001b[0m\u001b[0mweights\u001b[0m\u001b[1;33m)\u001b[0m\u001b[1;33m.\u001b[0m\u001b[0msum\u001b[0m\u001b[1;33m(\u001b[0m\u001b[1;36m0\u001b[0m\u001b[1;33m)\u001b[0m\u001b[1;33m\u001b[0m\u001b[1;33m\u001b[0m\u001b[0m\n\u001b[0m",
      "\u001b[1;31mValueError\u001b[0m: operands could not be broadcast together with shapes (2,3) (2,) "
     ]
    }
   ],
   "source": [
    "(A*weights)"
   ]
  },
  {
   "cell_type": "code",
   "execution_count": 10,
   "metadata": {},
   "outputs": [],
   "source": [
    "weights = np.ones(A.shape[1])/A.shape[1]"
   ]
  },
  {
   "cell_type": "code",
   "execution_count": 105,
   "metadata": {},
   "outputs": [
    {
     "data": {
      "text/plain": [
       "array([[-0.66436384,  0.37139068,  0.66436384,  0.96561576],\n",
       "       [ 0.21693046,  0.9701425 , -0.21693046,  0.776114  ]])"
      ]
     },
     "execution_count": 105,
     "metadata": {},
     "output_type": "execute_result"
    }
   ],
   "source": [
    "row_corr_weighted(A,B,np.array([2,1,3]))"
   ]
  },
  {
   "cell_type": "code",
   "execution_count": 96,
   "metadata": {},
   "outputs": [],
   "source": [
    "# converted to python from here: https://stackoverflow.com/questions/9460664/weighted-pearsons-correlation\n",
    "def row_corr_weighted(A,B,weights = np.ones(A.shape[1])/A.shape[1]):\n",
    "    w = weights/sum(weights)\n",
    "    \n",
    "    A = A - (A*w).sum(1)[:,None]\n",
    "    B = B - (B*w).sum(1)[:,None]\n",
    "    \n",
    "    pcorr = np.matmul(A,((B*w).T))/np.sqrt(np.matmul(((A**2)*w).sum(1)[:,None],(((B**2)*w).sum(1)[:,None]).T))\n",
    "    return pcorr"
   ]
  },
  {
   "cell_type": "code",
   "execution_count": 101,
   "metadata": {},
   "outputs": [],
   "source": [
    "def m(x, w):\n",
    "    \"\"\"Weighted Mean\"\"\"\n",
    "    return np.sum(x * w) / np.sum(w)\n",
    "\n",
    "def cov(x, y, w):\n",
    "    \"\"\"Weighted Covariance\"\"\"\n",
    "    return np.sum(w * (x - m(x, w)) * (y - m(y, w))) / np.sum(w)\n",
    "\n",
    "def weighted_corr(x, y, w):\n",
    "    \"\"\"Weighted Correlation\"\"\"\n",
    "    return cov(x, y, w) / np.sqrt(cov(x, x, w) * cov(y, y, w))"
   ]
  },
  {
   "cell_type": "code",
   "execution_count": 103,
   "metadata": {},
   "outputs": [
    {
     "data": {
      "text/plain": [
       "-0.6643638388299198"
      ]
     },
     "execution_count": 103,
     "metadata": {},
     "output_type": "execute_result"
    }
   ],
   "source": [
    "weighted_corr(A[0],B[0],[2,1,3])"
   ]
  },
  {
   "cell_type": "code",
   "execution_count": null,
   "metadata": {},
   "outputs": [],
   "source": []
  }
 ],
 "metadata": {
  "kernelspec": {
   "display_name": "Python 3",
   "language": "python",
   "name": "python3"
  },
  "language_info": {
   "codemirror_mode": {
    "name": "ipython",
    "version": 3
   },
   "file_extension": ".py",
   "mimetype": "text/x-python",
   "name": "python",
   "nbconvert_exporter": "python",
   "pygments_lexer": "ipython3",
   "version": "3.6.7"
  }
 },
 "nbformat": 4,
 "nbformat_minor": 2
}
