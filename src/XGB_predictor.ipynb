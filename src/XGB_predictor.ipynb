{
 "cells": [
  {
   "cell_type": "code",
   "execution_count": 51,
   "metadata": {},
   "outputs": [],
   "source": [
    "import os\n",
    "import glob\n",
    "import pickle as pkl\n",
    "import datetime\n",
    "\n",
    "import pandas as pd\n",
    "import numpy as np\n",
    "import matplotlib.pyplot as plt\n",
    "import seaborn as sns\n",
    "\n",
    "from sklearn.model_selection import cross_val_score, GridSearchCV, train_test_split, cross_validate, cross_val_predict\n",
    "from sklearn.metrics import r2_score, \\\n",
    "    explained_variance_score, normalized_mutual_info_score, mutual_info_score, make_scorer, mean_absolute_error\n",
    "from sklearn.model_selection import KFold, RepeatedKFold\n",
    "from sklearn.utils import shuffle\n",
    "from sklearn.base import BaseEstimator, RegressorMixin\n",
    "\n",
    "from skll.metrics import spearman, pearson\n",
    "\n",
    "from xgboost import XGBRegressor, XGBClassifier\n",
    "from xgboost import plot_importance\n",
    "\n",
    "\n",
    "from hyperopt import Trials, fmin, tpe, hp, STATUS_OK\n",
    "\n",
    "from mlxtend.preprocessing import shuffle_arrays_unison\n",
    "\n",
    "from pylab import rcParams\n",
    "rcParams['figure.figsize'] = 10,12"
   ]
  },
  {
   "cell_type": "markdown",
   "metadata": {},
   "source": [
    "# Import the Data\n",
    "Load the data from the pickle files created in `preproccess.ipynb`"
   ]
  },
  {
   "cell_type": "code",
   "execution_count": 2,
   "metadata": {},
   "outputs": [],
   "source": [
    "with open(\"../pkl/data/data_outliers_removed\", \"rb\" ) as f:\n",
    "    [X, Y] = pkl.load(f)"
   ]
  },
  {
   "cell_type": "markdown",
   "metadata": {},
   "source": [
    "## Modelling with XGB"
   ]
  },
  {
   "cell_type": "markdown",
   "metadata": {},
   "source": [
    "### Setup"
   ]
  },
  {
   "cell_type": "code",
   "execution_count": 3,
   "metadata": {},
   "outputs": [],
   "source": [
    "splitter= RepeatedKFold(n_splits=10,n_repeats=5)"
   ]
  },
  {
   "cell_type": "code",
   "execution_count": 4,
   "metadata": {},
   "outputs": [],
   "source": [
    "scoring = {'r2':make_scorer(r2_score), \n",
    "           'SRC':make_scorer(spearman), \n",
    "           'PCC':make_scorer(pearson), \n",
    "           'MI':make_scorer(mutual_info_score), \n",
    "           'MAE':make_scorer(mean_absolute_error)}"
   ]
  },
  {
   "cell_type": "code",
   "execution_count": 5,
   "metadata": {},
   "outputs": [],
   "source": [
    "try:\n",
    "    overall_results = pd.read_csv('../reports/model_results.csv',index_col=0)\n",
    "except FileNotFoundError:\n",
    "    overall_results = pd.DataFrame(columns = scoring.keys())"
   ]
  },
  {
   "cell_type": "markdown",
   "metadata": {},
   "source": [
    "### Regressor only"
   ]
  },
  {
   "cell_type": "markdown",
   "metadata": {},
   "source": [
    "The search space below is the final step after some hand tuning, the code for which is not currently shown."
   ]
  },
  {
   "cell_type": "code",
   "execution_count": 9,
   "metadata": {},
   "outputs": [
    {
     "name": "stderr",
     "output_type": "stream",
     "text": [
      "C:\\Users\\Gabriel\\AppData\\Local\\conda\\conda\\envs\\DairyML\\lib\\site-packages\\sklearn\\model_selection\\_search.py:841: DeprecationWarning: The default of the `iid` parameter will change from True to False in version 0.22 and will be removed in 0.24. This will change numeric results when test-set sizes are unequal.\n",
      "  DeprecationWarning)\n"
     ]
    }
   ],
   "source": [
    "param_grid = {'max_depth': [9], 'n_estimators': [50,100,150], 'colsample_bytree': [0.9]}\n",
    "refit = 'r2'\n",
    "\n",
    "search = GridSearchCV(estimator=XGBRegressor(),param_grid=param_grid,scoring=scoring,refit=refit,cv=splitter)\n",
    "fitted = search.fit(X,Y)"
   ]
  },
  {
   "cell_type": "code",
   "execution_count": 8,
   "metadata": {},
   "outputs": [
    {
     "data": {
      "text/html": [
       "<div>\n",
       "<style scoped>\n",
       "    .dataframe tbody tr th:only-of-type {\n",
       "        vertical-align: middle;\n",
       "    }\n",
       "\n",
       "    .dataframe tbody tr th {\n",
       "        vertical-align: top;\n",
       "    }\n",
       "\n",
       "    .dataframe thead th {\n",
       "        text-align: right;\n",
       "    }\n",
       "</style>\n",
       "<table border=\"1\" class=\"dataframe\">\n",
       "  <thead>\n",
       "    <tr style=\"text-align: right;\">\n",
       "      <th></th>\n",
       "      <th>r2</th>\n",
       "      <th>SRC</th>\n",
       "      <th>PCC</th>\n",
       "      <th>MI</th>\n",
       "      <th>MAE</th>\n",
       "    </tr>\n",
       "  </thead>\n",
       "  <tbody>\n",
       "    <tr>\n",
       "      <th>Dummy Mean</th>\n",
       "      <td>-0.02</td>\n",
       "      <td>0.00</td>\n",
       "      <td>-0.00</td>\n",
       "      <td>-0.00</td>\n",
       "      <td>1.94</td>\n",
       "    </tr>\n",
       "    <tr>\n",
       "      <th>Dummy Median All</th>\n",
       "      <td>-0.32</td>\n",
       "      <td>0.00</td>\n",
       "      <td>-0.00</td>\n",
       "      <td>-0.00</td>\n",
       "      <td>1.68</td>\n",
       "    </tr>\n",
       "    <tr>\n",
       "      <th>Dummy Median Nonzero</th>\n",
       "      <td>-0.08</td>\n",
       "      <td>0.00</td>\n",
       "      <td>-0.00</td>\n",
       "      <td>-0.00</td>\n",
       "      <td>1.77</td>\n",
       "    </tr>\n",
       "    <tr>\n",
       "      <th>Perfect Clasif., Mean Regr.</th>\n",
       "      <td>0.13</td>\n",
       "      <td>0.73</td>\n",
       "      <td>0.41</td>\n",
       "      <td>0.53</td>\n",
       "      <td>1.53</td>\n",
       "    </tr>\n",
       "    <tr>\n",
       "      <th>Lasso</th>\n",
       "      <td>0.45</td>\n",
       "      <td>0.61</td>\n",
       "      <td>0.70</td>\n",
       "      <td>3.07</td>\n",
       "      <td>1.23</td>\n",
       "    </tr>\n",
       "    <tr>\n",
       "      <th>Bounded Lasso</th>\n",
       "      <td>0.55</td>\n",
       "      <td>0.64</td>\n",
       "      <td>0.75</td>\n",
       "      <td>2.87</td>\n",
       "      <td>1.08</td>\n",
       "    </tr>\n",
       "    <tr>\n",
       "      <th>Bounded Lasso + LogReg</th>\n",
       "      <td>0.64</td>\n",
       "      <td>0.80</td>\n",
       "      <td>0.82</td>\n",
       "      <td>2.66</td>\n",
       "      <td>0.86</td>\n",
       "    </tr>\n",
       "    <tr>\n",
       "      <th>FFNN (Regressor Only)</th>\n",
       "      <td>0.77</td>\n",
       "      <td>0.78</td>\n",
       "      <td>0.88</td>\n",
       "      <td>3.07</td>\n",
       "      <td>0.66</td>\n",
       "    </tr>\n",
       "    <tr>\n",
       "      <th>XGB Regressor</th>\n",
       "      <td>0.79</td>\n",
       "      <td>0.84</td>\n",
       "      <td>0.90</td>\n",
       "      <td>3.07</td>\n",
       "      <td>0.48</td>\n",
       "    </tr>\n",
       "    <tr>\n",
       "      <th>XGB Combined</th>\n",
       "      <td>0.82</td>\n",
       "      <td>0.90</td>\n",
       "      <td>0.91</td>\n",
       "      <td>3.04</td>\n",
       "      <td>0.43</td>\n",
       "    </tr>\n",
       "  </tbody>\n",
       "</table>\n",
       "</div>"
      ],
      "text/plain": [
       "                               r2   SRC   PCC    MI   MAE\n",
       "Dummy Mean                  -0.02  0.00 -0.00 -0.00  1.94\n",
       "Dummy Median All            -0.32  0.00 -0.00 -0.00  1.68\n",
       "Dummy Median Nonzero        -0.08  0.00 -0.00 -0.00  1.77\n",
       "Perfect Clasif., Mean Regr.  0.13  0.73  0.41  0.53  1.53\n",
       "Lasso                        0.45  0.61  0.70  3.07  1.23\n",
       "Bounded Lasso                0.55  0.64  0.75  2.87  1.08\n",
       "Bounded Lasso + LogReg       0.64  0.80  0.82  2.66  0.86\n",
       "FFNN (Regressor Only)        0.77  0.78  0.88  3.07  0.66\n",
       "XGB Regressor                0.79  0.84  0.90  3.07  0.48\n",
       "XGB Combined                 0.82  0.90  0.91  3.04  0.43"
      ]
     },
     "execution_count": 8,
     "metadata": {},
     "output_type": "execute_result"
    }
   ],
   "source": [
    "for score_name in scoring.keys():\n",
    "    overall_results.loc['XGB Regressor',score_name] = np.round(np.mean(search.cv_results_['mean_test_'+score_name]),2)\n",
    "overall_results"
   ]
  },
  {
   "cell_type": "markdown",
   "metadata": {},
   "source": [
    "### Classifier only"
   ]
  },
  {
   "cell_type": "code",
   "execution_count": 23,
   "metadata": {},
   "outputs": [],
   "source": [
    "Y_binary = (Y != 0)\n",
    "Y_binary = Y_binary.astype(int)"
   ]
  },
  {
   "cell_type": "code",
   "execution_count": 10,
   "metadata": {},
   "outputs": [],
   "source": [
    "param_grid = {'max_depth': [7, 9, 11]}\n",
    "\n",
    "search= GridSearchCV(estimator=XGBClassifier(),param_grid=param_grid,scoring=('accuracy','recall'),refit='accuracy',cv=splitter)\n",
    "fitted = search.fit(X,Y_binary)"
   ]
  },
  {
   "cell_type": "code",
   "execution_count": 26,
   "metadata": {},
   "outputs": [
    {
     "data": {
      "text/plain": [
       "0.9731903485254692"
      ]
     },
     "execution_count": 26,
     "metadata": {},
     "output_type": "execute_result"
    }
   ],
   "source": [
    "search.best_score_"
   ]
  },
  {
   "cell_type": "markdown",
   "metadata": {},
   "source": [
    "### Combined classifier and regressor"
   ]
  },
  {
   "cell_type": "markdown",
   "metadata": {},
   "source": [
    "Combine the XGBClassifier and XGBRegressor. XGBRegressor output is used when the classifier predicts nonzero, otherwise model prediction is 0."
   ]
  },
  {
   "cell_type": "code",
   "execution_count": 52,
   "metadata": {},
   "outputs": [],
   "source": [
    "class XGBCombined(BaseEstimator,RegressorMixin):\n",
    "    def __init__(self, max_depth_reg=None, max_depth_clas=None, importance_type='gain'):\n",
    "        self.max_depth_reg = max_depth_reg\n",
    "        self.max_depth_clas = max_depth_clas\n",
    "        self.importance_type = importance_type\n",
    "\n",
    "    def fit(self,X,y):\n",
    "        self.reg = XGBRegressor(max_depth=self.max_depth_reg,colsample_bytree=0.9,importance_type=self.importance_type)\n",
    "        self.clas = XGBClassifier(max_depth=self.max_depth_clas,importance_type=self.importance_type)\n",
    "        self.reg.fit(X,y)\n",
    "        y_binary = y != 0\n",
    "        y_binary = y_binary.astype(int)\n",
    "        self.clas.fit(X,y_binary)\n",
    "        return self\n",
    "        \n",
    "    def predict(self, X):\n",
    "        pred_reg = self.reg.predict(X)\n",
    "        pred_clas = self.clas.predict(X)\n",
    "        pred = np.multiply(pred_reg,pred_clas)\n",
    "        return pred"
   ]
  },
  {
   "cell_type": "markdown",
   "metadata": {},
   "source": [
    "Evaluate combined model"
   ]
  },
  {
   "cell_type": "code",
   "execution_count": 53,
   "metadata": {},
   "outputs": [],
   "source": [
    "model = XGBCombined(max_depth_reg=9,max_depth_clas=7)\n",
    "xgb_combined_results = cross_validate(model,X,Y,cv=splitter,scoring=scoring)"
   ]
  },
  {
   "cell_type": "code",
   "execution_count": 54,
   "metadata": {},
   "outputs": [
    {
     "data": {
      "text/html": [
       "<div>\n",
       "<style scoped>\n",
       "    .dataframe tbody tr th:only-of-type {\n",
       "        vertical-align: middle;\n",
       "    }\n",
       "\n",
       "    .dataframe tbody tr th {\n",
       "        vertical-align: top;\n",
       "    }\n",
       "\n",
       "    .dataframe thead th {\n",
       "        text-align: right;\n",
       "    }\n",
       "</style>\n",
       "<table border=\"1\" class=\"dataframe\">\n",
       "  <thead>\n",
       "    <tr style=\"text-align: right;\">\n",
       "      <th></th>\n",
       "      <th>r2</th>\n",
       "      <th>SRC</th>\n",
       "      <th>PCC</th>\n",
       "      <th>MI</th>\n",
       "      <th>MAE</th>\n",
       "    </tr>\n",
       "  </thead>\n",
       "  <tbody>\n",
       "    <tr>\n",
       "      <th>Dummy Mean</th>\n",
       "      <td>-0.02</td>\n",
       "      <td>0.00</td>\n",
       "      <td>-0.00</td>\n",
       "      <td>-0.00</td>\n",
       "      <td>1.94</td>\n",
       "    </tr>\n",
       "    <tr>\n",
       "      <th>Dummy Median All</th>\n",
       "      <td>-0.32</td>\n",
       "      <td>0.00</td>\n",
       "      <td>-0.00</td>\n",
       "      <td>-0.00</td>\n",
       "      <td>1.68</td>\n",
       "    </tr>\n",
       "    <tr>\n",
       "      <th>Dummy Median Nonzero</th>\n",
       "      <td>-0.08</td>\n",
       "      <td>0.00</td>\n",
       "      <td>-0.00</td>\n",
       "      <td>-0.00</td>\n",
       "      <td>1.77</td>\n",
       "    </tr>\n",
       "    <tr>\n",
       "      <th>Perfect Clasif., Mean Regr.</th>\n",
       "      <td>0.13</td>\n",
       "      <td>0.73</td>\n",
       "      <td>0.41</td>\n",
       "      <td>0.53</td>\n",
       "      <td>1.53</td>\n",
       "    </tr>\n",
       "    <tr>\n",
       "      <th>Lasso</th>\n",
       "      <td>0.45</td>\n",
       "      <td>0.61</td>\n",
       "      <td>0.70</td>\n",
       "      <td>3.07</td>\n",
       "      <td>1.23</td>\n",
       "    </tr>\n",
       "    <tr>\n",
       "      <th>Bounded Lasso</th>\n",
       "      <td>0.55</td>\n",
       "      <td>0.64</td>\n",
       "      <td>0.75</td>\n",
       "      <td>2.87</td>\n",
       "      <td>1.08</td>\n",
       "    </tr>\n",
       "    <tr>\n",
       "      <th>Bounded Lasso + LogReg</th>\n",
       "      <td>0.64</td>\n",
       "      <td>0.80</td>\n",
       "      <td>0.82</td>\n",
       "      <td>2.66</td>\n",
       "      <td>0.86</td>\n",
       "    </tr>\n",
       "    <tr>\n",
       "      <th>FFNN (Regressor Only)</th>\n",
       "      <td>0.77</td>\n",
       "      <td>0.78</td>\n",
       "      <td>0.88</td>\n",
       "      <td>3.07</td>\n",
       "      <td>0.66</td>\n",
       "    </tr>\n",
       "    <tr>\n",
       "      <th>XGB Regressor</th>\n",
       "      <td>0.80</td>\n",
       "      <td>0.85</td>\n",
       "      <td>0.90</td>\n",
       "      <td>3.06</td>\n",
       "      <td>0.47</td>\n",
       "    </tr>\n",
       "    <tr>\n",
       "      <th>XGB Combined</th>\n",
       "      <td>0.82</td>\n",
       "      <td>0.89</td>\n",
       "      <td>0.91</td>\n",
       "      <td>3.02</td>\n",
       "      <td>0.42</td>\n",
       "    </tr>\n",
       "  </tbody>\n",
       "</table>\n",
       "</div>"
      ],
      "text/plain": [
       "                               r2   SRC   PCC    MI   MAE\n",
       "Dummy Mean                  -0.02  0.00 -0.00 -0.00  1.94\n",
       "Dummy Median All            -0.32  0.00 -0.00 -0.00  1.68\n",
       "Dummy Median Nonzero        -0.08  0.00 -0.00 -0.00  1.77\n",
       "Perfect Clasif., Mean Regr.  0.13  0.73  0.41  0.53  1.53\n",
       "Lasso                        0.45  0.61  0.70  3.07  1.23\n",
       "Bounded Lasso                0.55  0.64  0.75  2.87  1.08\n",
       "Bounded Lasso + LogReg       0.64  0.80  0.82  2.66  0.86\n",
       "FFNN (Regressor Only)        0.77  0.78  0.88  3.07  0.66\n",
       "XGB Regressor                0.80  0.85  0.90  3.06  0.47\n",
       "XGB Combined                 0.82  0.89  0.91  3.02  0.42"
      ]
     },
     "execution_count": 54,
     "metadata": {},
     "output_type": "execute_result"
    }
   ],
   "source": [
    "for score_name in scoring.keys():\n",
    "    overall_results.loc['XGB Combined',score_name] = np.round(np.mean(xgb_combined_results['test_'+score_name]),2)\n",
    "overall_results"
   ]
  },
  {
   "cell_type": "markdown",
   "metadata": {},
   "source": [
    "Save results to CSV"
   ]
  },
  {
   "cell_type": "code",
   "execution_count": 72,
   "metadata": {},
   "outputs": [],
   "source": [
    "overall_results.to_csv('../reports/model_results.csv')"
   ]
  },
  {
   "cell_type": "markdown",
   "metadata": {},
   "source": [
    "#### Plot actual vs predicted values"
   ]
  },
  {
   "cell_type": "code",
   "execution_count": 54,
   "metadata": {},
   "outputs": [],
   "source": [
    "splitter_non_repeat = KFold(n_splits=10,shuffle=True,random_state=7)\n",
    "y_pred = cross_val_predict(model,X,Y,cv=splitter_non_repeat)"
   ]
  },
  {
   "cell_type": "code",
   "execution_count": 56,
   "metadata": {},
   "outputs": [
    {
     "data": {
      "image/png": "[encoded data removed]",
      "text/plain": [
       "<Figure size 576x576 with 1 Axes>"
      ]
     },
     "metadata": {
      "needs_background": "light"
     },
     "output_type": "display_data"
    }
   ],
   "source": [
    "fig, ax = plt.subplots(figsize=[8,8])\n",
    "ax.scatter(Y, y_pred, alpha=0.5)\n",
    "ax.plot([Y.min(), Y.max()], [Y.min(), Y.max()], 'k--', lw=4)\n",
    "ax.set_xlabel('Actual')\n",
    "ax.set_ylabel('Predicted')\n",
    "ax.set_title('XGB Combined Model \\n Actual vs Predicted lactose')\n",
    "plt.show()"
   ]
  },
  {
   "cell_type": "markdown",
   "metadata": {},
   "source": [
    "### Plot feature importances"
   ]
  },
  {
   "cell_type": "markdown",
   "metadata": {},
   "source": [
    "Fit the model to the full dataset"
   ]
  },
  {
   "cell_type": "code",
   "execution_count": 59,
   "metadata": {},
   "outputs": [
    {
     "data": {
      "text/plain": [
       "XGBCombined(importance_type='frequency', max_depth_clas=7, max_depth_reg=9)"
      ]
     },
     "execution_count": 59,
     "metadata": {},
     "output_type": "execute_result"
    }
   ],
   "source": [
    "model = XGBCombined(max_depth_reg=9,max_depth_clas=7,importance_type='frequency')\n",
    "model.fit(X,Y)"
   ]
  },
  {
   "cell_type": "code",
   "execution_count": 60,
   "metadata": {},
   "outputs": [
    {
     "data": {
      "image/png": "[encoded data removed]",
      "text/plain": [
       "<Figure size 720x864 with 1 Axes>"
      ]
     },
     "metadata": {
      "needs_background": "light"
     },
     "output_type": "display_data"
    }
   ],
   "source": [
    "coefficients = pd.DataFrame()\n",
    "coefficients['Feature'] = X.columns\n",
    "coefficients['XGB Combined Importance'] = model.reg.feature_importances_\n",
    "coefficients = coefficients.set_index('Feature')\n",
    "axs = coefficients.sort_values('XGB Combined Importance').plot.barh(y='XGB Combined Importance')\n",
    "axs.set_title('XGB Combined Model Feature Importances')\n",
    "axs.set_xlabel('Importance')\n",
    "axs.get_legend().remove()"
   ]
  },
  {
   "cell_type": "code",
   "execution_count": 47,
   "metadata": {},
   "outputs": [],
   "source": [
    "coefficients.to_csv('../reports/feature_importances.csv')"
   ]
  },
  {
   "cell_type": "code",
   "execution_count": 48,
   "metadata": {},
   "outputs": [
    {
     "data": {
      "text/plain": [
       "XGBRegressor(base_score=0.5, booster='gbtree', colsample_bylevel=1,\n",
       "       colsample_bytree=0.9, gamma=0, learning_rate=0.1, max_delta_step=0,\n",
       "       max_depth=9, min_child_weight=1, missing=None, n_estimators=100,\n",
       "       n_jobs=1, nthread=None, objective='reg:linear', random_state=0,\n",
       "       reg_alpha=0, reg_lambda=1, scale_pos_weight=1, seed=None,\n",
       "       silent=True, subsample=1)"
      ]
     },
     "execution_count": 48,
     "metadata": {},
     "output_type": "execute_result"
    }
   ],
   "source": [
    "model.reg"
   ]
  },
  {
   "cell_type": "code",
   "execution_count": null,
   "metadata": {},
   "outputs": [],
   "source": []
  }
 ],
 "metadata": {
  "kernelspec": {
   "display_name": "Python 3",
   "language": "python",
   "name": "python3"
  },
  "language_info": {
   "codemirror_mode": {
    "name": "ipython",
    "version": 3
   },
   "file_extension": ".py",
   "mimetype": "text/x-python",
   "name": "python",
   "nbconvert_exporter": "python",
   "pygments_lexer": "ipython3",
   "version": "3.6.7"
  }
 },
 "nbformat": 4,
 "nbformat_minor": 2
}
