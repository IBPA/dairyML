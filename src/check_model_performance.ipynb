{
 "cells": [
  {
   "cell_type": "code",
   "execution_count": 1,
   "metadata": {},
   "outputs": [],
   "source": [
    "import matplotlib.pyplot as plt"
   ]
  },
  {
   "cell_type": "code",
   "execution_count": 5,
   "metadata": {},
   "outputs": [
    {
     "name": "stdout",
     "output_type": "stream",
     "text": [
      "Loading modules...\n",
      "Loading model at ../models/xgb_combined.model\n",
      "Loading data at ../data/training_for_GS_122118.csv\n",
      "Scaling input features...\n",
      "Testing the model... \n",
      "\n",
      "Results: \n",
      "r2: 0.74\n",
      "SRC: 0.99\n",
      "PCC: 0.86\n",
      "MI: 4.48\n",
      "MAE: 0.15\n",
      "                      r2   SRC   PCC    MI   MAE\n",
      "xgb_combined.model  0.74  0.99  0.86  4.48  0.15\n",
      "classifier_accuracy: 1.0\n",
      "classifier_f1: 1.0\n"
     ]
    }
   ],
   "source": [
    "print('Loading modules...')\n",
    "\n",
    "import os, sys, getopt, datetime\n",
    "import pickle as pkl\n",
    "import pandas as pd\n",
    "import numpy as np\n",
    "\n",
    "from xgboost import XGBRegressor, XGBClassifier\n",
    "from dairyml import XGBCombined\n",
    "\n",
    "from skll.metrics import spearman, pearson\n",
    "from sklearn.utils import shuffle\n",
    "from sklearn.model_selection import cross_validate, RepeatedKFold\n",
    "from sklearn.metrics import r2_score, mutual_info_score, make_scorer, mean_absolute_error, accuracy_score, f1_score\n",
    "from sklearn.preprocessing import StandardScaler\n",
    "from sklearn.ensemble import IsolationForest\n",
    "\n",
    "from keras.models import load_model\n",
    "\n",
    "import warnings\n",
    "warnings.filterwarnings(\"ignore\")\n",
    "\n",
    "#Load the model, pretrained on the full training data\n",
    "model_path = '../models/xgb_combined.model'\n",
    "print('Loading model at {}'.format(model_path))\n",
    "if 'ffnn' in model_path:\n",
    "    model = load_model(model_path)\n",
    "else:\n",
    "    with open(model_path, \"rb\" ) as f:\n",
    "        model = pkl.load(f)\n",
    "\n",
    "#Load test data\n",
    "data_path = '../data/training_for_GS_122118.csv'\n",
    "print('Loading data at {}'.format(data_path))\n",
    "data = pd.read_csv(data_path)\n",
    "data = data.set_index('FoodCode')\n",
    "numerical_features = data.columns[1:-1]\n",
    "\n",
    "# with open(\"../pkl/data/data_outliers_removed\", \"rb\" ) as f:\n",
    "#     [X, Y] = pkl.load(f)\n",
    "    \n",
    "#Scale the features to 0 mean and unit variance\n",
    "print('Scaling input features...')\n",
    "ss = StandardScaler()\n",
    "X = pd.DataFrame(ss.fit_transform(data[numerical_features]),columns=data[numerical_features].columns,index=data.index)\n",
    "\n",
    "# get the target variable\n",
    "Y = data['lac.per.100g']\n",
    "Y_binary = (Y != 0)\n",
    "\n",
    "#list scoring measure names and functions\n",
    "scoring_full = {'r2':r2_score, \n",
    "   'SRC':spearman, \n",
    "   'PCC':pearson, \n",
    "   'MI':mutual_info_score, \n",
    "   'MAE':mean_absolute_error}\n",
    "\n",
    "scoring_clf = {'classifier_accuracy': accuracy_score, \n",
    "   'classifier_f1': f1_score }\n",
    "\n",
    "results_dir = '../reports/'\n",
    "\n",
    "results = pd.DataFrame()\n",
    "\n",
    "if not os.path.exists(results_dir):\n",
    "    os.makedirs(results_dir)\n",
    "\n",
    "# Get model predictions\n",
    "print('Testing the model... ')\n",
    "# full predictions\n",
    "predictions = pd.DataFrame()\n",
    "\n",
    "predictions['Y'] = Y #actual values\n",
    "# print(model.predict(X))\n",
    "Y_pred = np.reshape(model.predict(X),(-1,len(Y)))[0] #overall prediction\n",
    "\n",
    "predictions['Y_pred'] = Y_pred\n",
    "\n",
    "predictions['Y_pred_reg'] = np.nan\n",
    "predictions['Y_pred_clas'] = np.nan\n",
    "\n",
    "try:\n",
    "    Y_pred_reg = model.reg.predict(X) # regressor predictions (combined models only)\n",
    "    predictions['Y_pred_reg'] = Y_pred_reg\n",
    "    Y_pred_clas = model.clas.predict(X) #classifier predictions (combined models only)\n",
    "    predictions['Y_pred_clas'] = Y_pred_clas\n",
    "except AttributeError:\n",
    "    pass\n",
    "\n",
    "model_name = os.path.basename(model_path)\n",
    "\n",
    "#score the predictions\n",
    "print('\\nResults: ')\n",
    "for name, metric in scoring_full.items():\n",
    "    score = np.round(metric(Y,Y_pred),2)\n",
    "    print('{}: {}'.format(name,score))\n",
    "    results.loc[model_name,name] = score\n",
    "\n",
    "print(results)\n",
    "\n",
    "if not all(np.isnan(predictions['Y_pred_clas'])):\n",
    "    for name, metric in scoring_clf.items():\n",
    "        score = np.round(metric(Y_binary,predictions['Y_pred_clas']),2)\n",
    "        print('{}: {}'.format(name,score))\n",
    "        results.loc[model_name,name] = score\n",
    "else:\n",
    "    for name, metric in scoring_clf.items():\n",
    "        score = np.nan\n",
    "        print('{}: {}'.format(name,score))\n",
    "        results.loc[model_name,name] = score\n",
    "\n",
    "# #store the results\n",
    "# time = datetime.datetime.now().strftime(\"%Y-%m-%d-%H-%M-%S\")\n",
    "# results_path = 'reports/test_results_'+time+'.csv'\n",
    "# predictions_path = 'reports/test_predictions_'+time+'.csv'\n",
    "\n",
    "# results.to_csv(results_path)\n",
    "# predictions.to_csv(predictions_path)\n",
    "# print('\\nResults saved to {}'.format(results_path))\n",
    "# print('\\nPredictions saved to {}'.format(predictions_path))"
   ]
  },
  {
   "cell_type": "code",
   "execution_count": 6,
   "metadata": {},
   "outputs": [
    {
     "data": {
      "image/png": "[encoded data removed]",
      "text/plain": [
       "<Figure size 576x576 with 1 Axes>"
      ]
     },
     "metadata": {
      "needs_background": "light"
     },
     "output_type": "display_data"
    }
   ],
   "source": [
    "fig, ax = plt.subplots(figsize=[8,8])\n",
    "ax.scatter(Y, Y_pred, s=15, alpha=0.5)\n",
    "ax.plot([Y.min(), Y.max()], [Y.min(), Y.max()], 'k--', lw=3)\n",
    "ax.set_xlabel('Actual')\n",
    "ax.set_ylabel('Predicted')\n",
    "plt.show()"
   ]
  },
  {
   "cell_type": "code",
   "execution_count": null,
   "metadata": {},
   "outputs": [],
   "source": []
  }
 ],
 "metadata": {
  "kernelspec": {
   "display_name": "Python 3",
   "language": "python",
   "name": "python3"
  },
  "language_info": {
   "codemirror_mode": {
    "name": "ipython",
    "version": 3
   },
   "file_extension": ".py",
   "mimetype": "text/x-python",
   "name": "python",
   "nbconvert_exporter": "python",
   "pygments_lexer": "ipython3",
   "version": "3.6.7"
  }
 },
 "nbformat": 4,
 "nbformat_minor": 2
}
