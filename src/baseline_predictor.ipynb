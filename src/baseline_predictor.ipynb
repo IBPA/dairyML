{
 "cells": [
  {
   "cell_type": "code",
   "execution_count": 1,
   "metadata": {},
   "outputs": [],
   "source": [
    "import pandas as pd\n",
    "import pickle as pkl\n",
    "\n",
    "from sklearn.linear_model import Lasso, LassoCV, LogisticRegressionCV, LogisticRegression\n",
    "from sklearn.svm import SVC\n",
    "from sklearn.preprocessing import StandardScaler\n",
    "from sklearn.model_selection import cross_val_score, GridSearchCV, cross_validate, KFold, cross_val_predict\n",
    "from sklearn.metrics import r2_score, explained_variance_score, mean_absolute_error, make_scorer\n",
    "from sklearn.dummy import DummyRegressor\n",
    "from sklearn.utils.validation import check_X_y, check_array, check_is_fitted\n",
    "from sklearn.decomposition import PCA\n",
    "from sklearn.manifold import TSNE\n",
    "from sklearn.ensemble import IsolationForest\n",
    "from mutual_info import mutual_info_regression\n",
    "\n",
    "from skll.metrics import spearman, pearson \n",
    "\n",
    "\n",
    "import numpy as np\n",
    "import matplotlib.pyplot as plt\n",
    "import seaborn as sns\n",
    "\n",
    "import warnings\n",
    "warnings.filterwarnings('ignore')\n",
    "from pylab import rcParams\n",
    "rcParams['figure.figsize'] = 6,6"
   ]
  },
  {
   "cell_type": "markdown",
   "metadata": {},
   "source": [
    "Custom model implementations and functions are stored in `src/dairyml.py`"
   ]
  },
  {
   "cell_type": "code",
   "execution_count": 2,
   "metadata": {},
   "outputs": [],
   "source": [
    "from dairyml import *"
   ]
  },
  {
   "cell_type": "markdown",
   "metadata": {},
   "source": [
    "## Import the Data\n",
    "Load the data from the pickle files created in `preproccess.ipynb`"
   ]
  },
  {
   "cell_type": "code",
   "execution_count": 3,
   "metadata": {},
   "outputs": [],
   "source": [
    "with open(\"../pkl/data/data_outliers_removed\", \"rb\" ) as f:\n",
    "    [X, Y] = pkl.load(f)"
   ]
  },
  {
   "cell_type": "code",
   "execution_count": 4,
   "metadata": {},
   "outputs": [],
   "source": [
    "Y_reshaped = Y.values.reshape(-1,1)"
   ]
  },
  {
   "cell_type": "markdown",
   "metadata": {},
   "source": [
    "## Baseline Models"
   ]
  },
  {
   "cell_type": "markdown",
   "metadata": {},
   "source": [
    "The below object splits the data into 10 folds, with shuffling. Random state is fixed for repeatability."
   ]
  },
  {
   "cell_type": "code",
   "execution_count": 5,
   "metadata": {},
   "outputs": [],
   "source": [
    "splitter= KFold(n_splits=10,shuffle=True,random_state=7)"
   ]
  },
  {
   "cell_type": "markdown",
   "metadata": {},
   "source": [
    "Choose statistics used to evaluate the models\n",
    "- R^2\n",
    "- SRC = Spearman Rank Correlation\n",
    "- PCC = Pearson Correlation\n",
    "- MI = Mutual information\n",
    "- MAE = Mean absolute error"
   ]
  },
  {
   "cell_type": "markdown",
   "metadata": {},
   "source": [
    "### Choose scoring measures for cross-validation"
   ]
  },
  {
   "cell_type": "code",
   "execution_count": 6,
   "metadata": {},
   "outputs": [],
   "source": [
    "from scoring import *"
   ]
  },
  {
   "cell_type": "markdown",
   "metadata": {},
   "source": [
    "Import results dataframe from CSV to store the testing results, create it if it doesn't exist"
   ]
  },
  {
   "cell_type": "code",
   "execution_count": 7,
   "metadata": {},
   "outputs": [],
   "source": [
    "try:\n",
    "    overall_results = pd.read_csv('../reports/cv_results.csv',index_col=0)\n",
    "except FileNotFoundError:\n",
    "    overall_results = pd.DataFrame()"
   ]
  },
  {
   "cell_type": "markdown",
   "metadata": {},
   "source": [
    "### Mean"
   ]
  },
  {
   "cell_type": "markdown",
   "metadata": {},
   "source": [
    "The prediction for each food is the mean of the training lactose values"
   ]
  },
  {
   "cell_type": "code",
   "execution_count": 8,
   "metadata": {},
   "outputs": [],
   "source": [
    "dummy_mean = DummyRegressor(strategy='mean')\n",
    "dummy_mean_raw_results = cross_validate(dummy_mean,X,Y_reshaped,cv=splitter,scoring=scoring)\n",
    "\n",
    "overall_results = scores_to_df(overall_results,'Dummy Mean',dummy_mean_raw_results,refit=None)"
   ]
  },
  {
   "cell_type": "code",
   "execution_count": 9,
   "metadata": {},
   "outputs": [],
   "source": [
    "with open(\"../models/baseline_mean.model\", \"wb\" ) as f:\n",
    "    pkl.dump(dummy_mean,f)"
   ]
  },
  {
   "cell_type": "markdown",
   "metadata": {},
   "source": [
    "### Median of all values"
   ]
  },
  {
   "cell_type": "markdown",
   "metadata": {},
   "source": [
    "The prediction for each food is the median of the training lactose values"
   ]
  },
  {
   "cell_type": "code",
   "execution_count": 10,
   "metadata": {},
   "outputs": [],
   "source": [
    "dummy_median_all = DummyRegressor(strategy='median')\n",
    "dummy_median_all_raw_results = cross_validate(dummy_median_all,X,Y_reshaped,cv=splitter,scoring=scoring)\n",
    "dummy_median_all_scores = {}\n",
    "\n",
    "overall_results = scores_to_df(overall_results,'Dummy Median All',dummy_median_all_raw_results,refit=None)"
   ]
  },
  {
   "cell_type": "code",
   "execution_count": 11,
   "metadata": {},
   "outputs": [],
   "source": [
    "with open(\"../models/baseline_median.model\", \"wb\" ) as f:\n",
    "    pkl.dump(dummy_median_all,f)"
   ]
  },
  {
   "cell_type": "markdown",
   "metadata": {},
   "source": [
    "### Median  of nonzero values"
   ]
  },
  {
   "cell_type": "markdown",
   "metadata": {},
   "source": [
    "The prediction for each food is the median of the _non-zero_ training lactose values"
   ]
  },
  {
   "cell_type": "code",
   "execution_count": 12,
   "metadata": {},
   "outputs": [],
   "source": [
    "dummy_median_nonzero = DummyRegressorCustom(strategy='median_nonzero',constant=np.median(Y_reshaped[Y_reshaped > 0]))\n",
    "dummy_median_nonzero_raw_results = cross_validate(dummy_median_nonzero,X,Y_reshaped,cv=splitter,scoring=scoring)\n",
    "dummy_median_nonzero_scores = {}\n",
    "\n",
    "overall_results = scores_to_df(overall_results,'Dummy Median Nonzero',dummy_median_nonzero_raw_results,refit=None)"
   ]
  },
  {
   "cell_type": "code",
   "execution_count": 13,
   "metadata": {},
   "outputs": [],
   "source": [
    "with open(\"../models/baseline_median_nonzero.model\", \"wb\" ) as f:\n",
    "    pkl.dump(dummy_median_nonzero,f)"
   ]
  },
  {
   "cell_type": "markdown",
   "metadata": {},
   "source": [
    "### Perfect classifier plus mean regressor\n",
    "- This classifier predicts 0 where the true value is 0, or the mean of the training lactose values where the true value is nonzero\n",
    "- The classification into 0 or nonzero is perfect (taken from the testing data)\n",
    "\n",
    "- See dairyml.py for implementation\n",
    "\n",
    "(This class is not compliant with sklearn conventions, this was the easiest implementation I could think of to include perfect classification)"
   ]
  },
  {
   "cell_type": "code",
   "execution_count": 14,
   "metadata": {},
   "outputs": [],
   "source": [
    "scoring_pcmr = {'r2':r2_score, \n",
    "           'SRC':spearman, \n",
    "           'PCC':pearson, \n",
    "           'MI': lambda x,y : mutual_info_regression(x.reshape(-1,1),y.reshape(-1,1)), \n",
    "           'MAE':mean_absolute_error}"
   ]
  },
  {
   "cell_type": "code",
   "execution_count": 15,
   "metadata": {},
   "outputs": [],
   "source": [
    "pcmr = PerfectClassifierMeanRegressor()\n",
    "pcmr.fit(X,Y)\n",
    "dummy_pcmr_raw_results = pcmr.cross_val(scoring=scoring_pcmr)\n",
    "dummy_median_scores = {}\n",
    "\n",
    "overall_results = scores_to_df(overall_results,'Perfect Clasif., Mean Regr.',dummy_pcmr_raw_results,refit=None)"
   ]
  },
  {
   "cell_type": "code",
   "execution_count": 16,
   "metadata": {},
   "outputs": [],
   "source": [
    "with open(\"../models/baseline_pcmr.model\", \"wb\" ) as f:\n",
    "    pkl.dump(pcmr,f)"
   ]
  },
  {
   "cell_type": "markdown",
   "metadata": {},
   "source": [
    "### Save results to CSV"
   ]
  },
  {
   "cell_type": "code",
   "execution_count": 17,
   "metadata": {},
   "outputs": [],
   "source": [
    "overall_results.to_csv('../reports/cv_results.csv')"
   ]
  }
 ],
 "metadata": {
  "kernelspec": {
   "display_name": "Python 3",
   "language": "python",
   "name": "python3"
  },
  "language_info": {
   "codemirror_mode": {
    "name": "ipython",
    "version": 3
   },
   "file_extension": ".py",
   "mimetype": "text/x-python",
   "name": "python",
   "nbconvert_exporter": "python",
   "pygments_lexer": "ipython3",
   "version": "3.6.9"
  }
 },
 "nbformat": 4,
 "nbformat_minor": 2
}
