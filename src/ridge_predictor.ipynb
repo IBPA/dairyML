{
 "cells": [
  {
   "cell_type": "code",
   "execution_count": 1,
   "metadata": {},
   "outputs": [],
   "source": [
    "import pandas as pd\n",
    "import pickle as pkl\n",
    "from sklearn.linear_model import Ridge\n",
    "\n",
    "from sklearn.model_selection import cross_val_score, GridSearchCV, cross_validate, KFold, cross_val_predict\n",
    "\n",
    "import numpy as np\n",
    "import matplotlib.pyplot as plt\n",
    "import seaborn as sns\n",
    "\n",
    "import warnings\n",
    "warnings.filterwarnings('ignore')\n",
    "from pylab import rcParams\n",
    "rcParams['figure.figsize'] = 10,10"
   ]
  },
  {
   "cell_type": "code",
   "execution_count": 2,
   "metadata": {},
   "outputs": [],
   "source": [
    "from dairyml import * "
   ]
  },
  {
   "cell_type": "markdown",
   "metadata": {},
   "source": [
    "### Load the data"
   ]
  },
  {
   "cell_type": "code",
   "execution_count": 3,
   "metadata": {},
   "outputs": [],
   "source": [
    "with open(\"../pkl/data/data_outliers_removed\", \"rb\" ) as f:\n",
    "    [X, Y] = pkl.load(f)"
   ]
  },
  {
   "cell_type": "code",
   "execution_count": 4,
   "metadata": {},
   "outputs": [],
   "source": [
    "Y_reshaped = Y.values.reshape(-1,1)"
   ]
  },
  {
   "cell_type": "markdown",
   "metadata": {},
   "source": [
    "### Modeling with Ridge"
   ]
  },
  {
   "cell_type": "code",
   "execution_count": 5,
   "metadata": {},
   "outputs": [],
   "source": [
    "splitter= KFold(n_splits=10,shuffle=True,random_state=7)"
   ]
  },
  {
   "cell_type": "code",
   "execution_count": 6,
   "metadata": {},
   "outputs": [],
   "source": [
    "from scoring import *"
   ]
  },
  {
   "cell_type": "code",
   "execution_count": 7,
   "metadata": {},
   "outputs": [],
   "source": [
    "try:\n",
    "    overall_results = pd.read_csv('../reports/cv_results.csv',index_col=0)\n",
    "except FileNotFoundError:\n",
    "    overall_results = pd.DataFrame(columns = scoring.keys())"
   ]
  },
  {
   "cell_type": "markdown",
   "metadata": {},
   "source": [
    "#### Ridge"
   ]
  },
  {
   "cell_type": "code",
   "execution_count": 8,
   "metadata": {},
   "outputs": [],
   "source": [
    "param_grid = {'alpha': np.logspace(-3, 3, 50)}\n",
    "\n",
    "refit = 'r2'\n",
    "\n",
    "search = GridSearchCV(estimator=Ridge(),param_grid=param_grid,scoring=scoring,refit=refit,cv=splitter)\n",
    "fitted = search.fit(X,Y_reshaped)"
   ]
  },
  {
   "cell_type": "code",
   "execution_count": 9,
   "metadata": {},
   "outputs": [],
   "source": [
    "model = fitted.best_estimator_\n",
    "with open(\"../models/ridge.model\", \"wb\" ) as f:\n",
    "    pkl.dump(model,f)"
   ]
  },
  {
   "cell_type": "code",
   "execution_count": 10,
   "metadata": {},
   "outputs": [
    {
     "data": {
      "text/plain": [
       "59.636233165946365"
      ]
     },
     "execution_count": 10,
     "metadata": {},
     "output_type": "execute_result"
    }
   ],
   "source": [
    "search.best_estimator_.alpha"
   ]
  },
  {
   "cell_type": "code",
   "execution_count": 11,
   "metadata": {},
   "outputs": [
    {
     "data": {
      "text/plain": [
       "0.41723690809723385"
      ]
     },
     "execution_count": 11,
     "metadata": {},
     "output_type": "execute_result"
    }
   ],
   "source": [
    "search.cv_results_['mean_test_r2'][np.argmax(search.cv_results_['mean_test_'+refit])]"
   ]
  },
  {
   "cell_type": "code",
   "execution_count": 12,
   "metadata": {},
   "outputs": [
    {
     "data": {
      "text/html": [
       "<div>\n",
       "<style scoped>\n",
       "    .dataframe tbody tr th:only-of-type {\n",
       "        vertical-align: middle;\n",
       "    }\n",
       "\n",
       "    .dataframe tbody tr th {\n",
       "        vertical-align: top;\n",
       "    }\n",
       "\n",
       "    .dataframe thead th {\n",
       "        text-align: right;\n",
       "    }\n",
       "</style>\n",
       "<table border=\"1\" class=\"dataframe\">\n",
       "  <thead>\n",
       "    <tr style=\"text-align: right;\">\n",
       "      <th></th>\n",
       "      <th>cv_test_r2</th>\n",
       "      <th>cv_train_r2</th>\n",
       "      <th>cv_test_SRC</th>\n",
       "      <th>cv_train_SRC</th>\n",
       "      <th>cv_test_PCC</th>\n",
       "      <th>cv_train_PCC</th>\n",
       "      <th>cv_test_MI</th>\n",
       "      <th>cv_train_MI</th>\n",
       "      <th>cv_test_MAE</th>\n",
       "      <th>cv_train_MAE</th>\n",
       "      <th>cv_test_accuracy</th>\n",
       "      <th>cv_train_accuracy</th>\n",
       "      <th>cv_test_recall</th>\n",
       "      <th>cv_train_recall</th>\n",
       "    </tr>\n",
       "  </thead>\n",
       "  <tbody>\n",
       "    <tr>\n",
       "      <th>Dummy Mean</th>\n",
       "      <td>-0.02</td>\n",
       "      <td>0.00</td>\n",
       "      <td>0.00</td>\n",
       "      <td>0.00</td>\n",
       "      <td>0.00</td>\n",
       "      <td>0.00</td>\n",
       "      <td>0.00</td>\n",
       "      <td>0.00</td>\n",
       "      <td>1.94</td>\n",
       "      <td>1.93</td>\n",
       "      <td>NaN</td>\n",
       "      <td>NaN</td>\n",
       "      <td>NaN</td>\n",
       "      <td>NaN</td>\n",
       "    </tr>\n",
       "    <tr>\n",
       "      <th>Dummy Median All</th>\n",
       "      <td>-0.32</td>\n",
       "      <td>-0.29</td>\n",
       "      <td>0.00</td>\n",
       "      <td>0.00</td>\n",
       "      <td>0.00</td>\n",
       "      <td>0.00</td>\n",
       "      <td>0.01</td>\n",
       "      <td>0.00</td>\n",
       "      <td>1.68</td>\n",
       "      <td>1.68</td>\n",
       "      <td>NaN</td>\n",
       "      <td>NaN</td>\n",
       "      <td>NaN</td>\n",
       "      <td>NaN</td>\n",
       "    </tr>\n",
       "    <tr>\n",
       "      <th>Dummy Median Nonzero</th>\n",
       "      <td>-0.08</td>\n",
       "      <td>-0.06</td>\n",
       "      <td>0.00</td>\n",
       "      <td>0.00</td>\n",
       "      <td>0.00</td>\n",
       "      <td>0.00</td>\n",
       "      <td>0.00</td>\n",
       "      <td>0.01</td>\n",
       "      <td>1.77</td>\n",
       "      <td>1.77</td>\n",
       "      <td>NaN</td>\n",
       "      <td>NaN</td>\n",
       "      <td>NaN</td>\n",
       "      <td>NaN</td>\n",
       "    </tr>\n",
       "    <tr>\n",
       "      <th>Perfect Clasif., Mean Regr.</th>\n",
       "      <td>0.13</td>\n",
       "      <td>0.13</td>\n",
       "      <td>0.73</td>\n",
       "      <td>0.73</td>\n",
       "      <td>0.41</td>\n",
       "      <td>0.40</td>\n",
       "      <td>0.47</td>\n",
       "      <td>0.51</td>\n",
       "      <td>1.53</td>\n",
       "      <td>1.53</td>\n",
       "      <td>NaN</td>\n",
       "      <td>NaN</td>\n",
       "      <td>NaN</td>\n",
       "      <td>NaN</td>\n",
       "    </tr>\n",
       "    <tr>\n",
       "      <th>Lasso</th>\n",
       "      <td>0.45</td>\n",
       "      <td>0.59</td>\n",
       "      <td>0.61</td>\n",
       "      <td>0.67</td>\n",
       "      <td>0.70</td>\n",
       "      <td>0.78</td>\n",
       "      <td>0.41</td>\n",
       "      <td>0.69</td>\n",
       "      <td>1.23</td>\n",
       "      <td>1.10</td>\n",
       "      <td>NaN</td>\n",
       "      <td>NaN</td>\n",
       "      <td>NaN</td>\n",
       "      <td>NaN</td>\n",
       "    </tr>\n",
       "    <tr>\n",
       "      <th>Bounded Lasso</th>\n",
       "      <td>0.55</td>\n",
       "      <td>0.66</td>\n",
       "      <td>0.64</td>\n",
       "      <td>0.69</td>\n",
       "      <td>0.75</td>\n",
       "      <td>0.82</td>\n",
       "      <td>0.42</td>\n",
       "      <td>0.66</td>\n",
       "      <td>1.08</td>\n",
       "      <td>0.97</td>\n",
       "      <td>NaN</td>\n",
       "      <td>NaN</td>\n",
       "      <td>NaN</td>\n",
       "      <td>NaN</td>\n",
       "    </tr>\n",
       "    <tr>\n",
       "      <th>Logistic Regression Classifier</th>\n",
       "      <td>NaN</td>\n",
       "      <td>NaN</td>\n",
       "      <td>NaN</td>\n",
       "      <td>NaN</td>\n",
       "      <td>NaN</td>\n",
       "      <td>NaN</td>\n",
       "      <td>NaN</td>\n",
       "      <td>NaN</td>\n",
       "      <td>NaN</td>\n",
       "      <td>NaN</td>\n",
       "      <td>0.89</td>\n",
       "      <td>1.0</td>\n",
       "      <td>0.95</td>\n",
       "      <td>1.0</td>\n",
       "    </tr>\n",
       "    <tr>\n",
       "      <th>Bounded Lasso + LogReg</th>\n",
       "      <td>0.64</td>\n",
       "      <td>0.74</td>\n",
       "      <td>0.80</td>\n",
       "      <td>0.89</td>\n",
       "      <td>0.82</td>\n",
       "      <td>0.87</td>\n",
       "      <td>0.61</td>\n",
       "      <td>0.86</td>\n",
       "      <td>0.86</td>\n",
       "      <td>0.74</td>\n",
       "      <td>NaN</td>\n",
       "      <td>NaN</td>\n",
       "      <td>NaN</td>\n",
       "      <td>NaN</td>\n",
       "    </tr>\n",
       "    <tr>\n",
       "      <th>Ridge</th>\n",
       "      <td>0.42</td>\n",
       "      <td>0.56</td>\n",
       "      <td>0.60</td>\n",
       "      <td>0.66</td>\n",
       "      <td>0.69</td>\n",
       "      <td>0.76</td>\n",
       "      <td>0.42</td>\n",
       "      <td>0.61</td>\n",
       "      <td>1.23</td>\n",
       "      <td>1.12</td>\n",
       "      <td>NaN</td>\n",
       "      <td>NaN</td>\n",
       "      <td>NaN</td>\n",
       "      <td>NaN</td>\n",
       "    </tr>\n",
       "  </tbody>\n",
       "</table>\n",
       "</div>"
      ],
      "text/plain": [
       "                                cv_test_r2  cv_train_r2  cv_test_SRC  \\\n",
       "Dummy Mean                           -0.02         0.00         0.00   \n",
       "Dummy Median All                     -0.32        -0.29         0.00   \n",
       "Dummy Median Nonzero                 -0.08        -0.06         0.00   \n",
       "Perfect Clasif., Mean Regr.           0.13         0.13         0.73   \n",
       "Lasso                                 0.45         0.59         0.61   \n",
       "Bounded Lasso                         0.55         0.66         0.64   \n",
       "Logistic Regression Classifier         NaN          NaN          NaN   \n",
       "Bounded Lasso + LogReg                0.64         0.74         0.80   \n",
       "Ridge                                 0.42         0.56         0.60   \n",
       "\n",
       "                                cv_train_SRC  cv_test_PCC  cv_train_PCC  \\\n",
       "Dummy Mean                              0.00         0.00          0.00   \n",
       "Dummy Median All                        0.00         0.00          0.00   \n",
       "Dummy Median Nonzero                    0.00         0.00          0.00   \n",
       "Perfect Clasif., Mean Regr.             0.73         0.41          0.40   \n",
       "Lasso                                   0.67         0.70          0.78   \n",
       "Bounded Lasso                           0.69         0.75          0.82   \n",
       "Logistic Regression Classifier           NaN          NaN           NaN   \n",
       "Bounded Lasso + LogReg                  0.89         0.82          0.87   \n",
       "Ridge                                   0.66         0.69          0.76   \n",
       "\n",
       "                                cv_test_MI  cv_train_MI  cv_test_MAE  \\\n",
       "Dummy Mean                            0.00         0.00         1.94   \n",
       "Dummy Median All                      0.01         0.00         1.68   \n",
       "Dummy Median Nonzero                  0.00         0.01         1.77   \n",
       "Perfect Clasif., Mean Regr.           0.47         0.51         1.53   \n",
       "Lasso                                 0.41         0.69         1.23   \n",
       "Bounded Lasso                         0.42         0.66         1.08   \n",
       "Logistic Regression Classifier         NaN          NaN          NaN   \n",
       "Bounded Lasso + LogReg                0.61         0.86         0.86   \n",
       "Ridge                                 0.42         0.61         1.23   \n",
       "\n",
       "                                cv_train_MAE  cv_test_accuracy  \\\n",
       "Dummy Mean                              1.93               NaN   \n",
       "Dummy Median All                        1.68               NaN   \n",
       "Dummy Median Nonzero                    1.77               NaN   \n",
       "Perfect Clasif., Mean Regr.             1.53               NaN   \n",
       "Lasso                                   1.10               NaN   \n",
       "Bounded Lasso                           0.97               NaN   \n",
       "Logistic Regression Classifier           NaN              0.89   \n",
       "Bounded Lasso + LogReg                  0.74               NaN   \n",
       "Ridge                                   1.12               NaN   \n",
       "\n",
       "                                cv_train_accuracy  cv_test_recall  \\\n",
       "Dummy Mean                                    NaN             NaN   \n",
       "Dummy Median All                              NaN             NaN   \n",
       "Dummy Median Nonzero                          NaN             NaN   \n",
       "Perfect Clasif., Mean Regr.                   NaN             NaN   \n",
       "Lasso                                         NaN             NaN   \n",
       "Bounded Lasso                                 NaN             NaN   \n",
       "Logistic Regression Classifier                1.0            0.95   \n",
       "Bounded Lasso + LogReg                        NaN             NaN   \n",
       "Ridge                                         NaN             NaN   \n",
       "\n",
       "                                cv_train_recall  \n",
       "Dummy Mean                                  NaN  \n",
       "Dummy Median All                            NaN  \n",
       "Dummy Median Nonzero                        NaN  \n",
       "Perfect Clasif., Mean Regr.                 NaN  \n",
       "Lasso                                       NaN  \n",
       "Bounded Lasso                               NaN  \n",
       "Logistic Regression Classifier              1.0  \n",
       "Bounded Lasso + LogReg                      NaN  \n",
       "Ridge                                       NaN  "
      ]
     },
     "execution_count": 12,
     "metadata": {},
     "output_type": "execute_result"
    }
   ],
   "source": [
    "overall_results = scores_to_df(overall_results,'Ridge',search.cv_results_,refit)\n",
    "overall_results"
   ]
  },
  {
   "cell_type": "markdown",
   "metadata": {},
   "source": [
    "### Bounded Ridge"
   ]
  },
  {
   "cell_type": "code",
   "execution_count": 13,
   "metadata": {},
   "outputs": [],
   "source": [
    "param_grid = {'alpha': np.logspace(-3, 3, 100)}\n",
    "\n",
    "refit = 'r2'\n",
    "\n",
    "search = GridSearchCV(estimator=BoundedRidge(),param_grid=param_grid,scoring=scoring,refit=refit,cv=splitter)\n",
    "fitted = search.fit(X,Y_reshaped)"
   ]
  },
  {
   "cell_type": "code",
   "execution_count": 14,
   "metadata": {},
   "outputs": [],
   "source": [
    "model = fitted.best_estimator_\n",
    "with open(\"../models/ridge_bounded.model\", \"wb\" ) as f:\n",
    "    pkl.dump(model,f)"
   ]
  },
  {
   "cell_type": "code",
   "execution_count": 15,
   "metadata": {},
   "outputs": [
    {
     "data": {
      "text/plain": [
       "15.199110829529332"
      ]
     },
     "execution_count": 15,
     "metadata": {},
     "output_type": "execute_result"
    }
   ],
   "source": [
    "search.best_estimator_.alpha"
   ]
  },
  {
   "cell_type": "code",
   "execution_count": 16,
   "metadata": {},
   "outputs": [],
   "source": [
    "overall_results = scores_to_df(overall_results,'Bounded Ridge',search.cv_results_,refit)"
   ]
  },
  {
   "cell_type": "code",
   "execution_count": 17,
   "metadata": {},
   "outputs": [],
   "source": [
    "# plot_coefficients(search.best_estimator_,X)"
   ]
  },
  {
   "cell_type": "code",
   "execution_count": 18,
   "metadata": {},
   "outputs": [],
   "source": [
    "# coefficients = pd.DataFrame()\n",
    "# coefficients['Feature'] = X.columns\n",
    "# coefficients = coefficients.set_index('Feature')\n",
    "# coefficients['coef'] = model.get_coef()\n",
    "# coefficients.to_csv('ridge_coef.csv')"
   ]
  },
  {
   "cell_type": "markdown",
   "metadata": {},
   "source": [
    "### Bounded Ridge + LogReg"
   ]
  },
  {
   "cell_type": "code",
   "execution_count": 19,
   "metadata": {},
   "outputs": [],
   "source": [
    "param_grid = {'alpha': np.logspace(-4, 3, 10), 'C': np.logspace(4, 6, 10)}\n",
    "refit='r2'\n",
    "search = GridSearchCV(estimator=BoundedRidgePlusLogReg(),param_grid=param_grid,scoring=scoring,refit=refit,cv=splitter)\n",
    "fitted = search.fit(X,Y_reshaped)"
   ]
  },
  {
   "cell_type": "code",
   "execution_count": 22,
   "metadata": {},
   "outputs": [],
   "source": [
    "y_pred = cross_val_predict(search.best_estimator_,X,Y_reshaped,cv=splitter)"
   ]
  },
  {
   "cell_type": "code",
   "execution_count": 23,
   "metadata": {},
   "outputs": [
    {
     "data": {
      "image/png": "[encoded data removed]",
      "text/plain": [
       "<Figure size 576x576 with 1 Axes>"
      ]
     },
     "metadata": {
      "needs_background": "light"
     },
     "output_type": "display_data"
    }
   ],
   "source": [
    "fig, ax = plt.subplots(figsize=[8,8])\n",
    "ax.scatter(Y, y_pred)\n",
    "ax.plot([Y.min(), Y.max()], [Y.min(), Y.max()], 'k--', lw=4)\n",
    "ax.set_xlabel('Actual')\n",
    "ax.set_ylabel('Predicted')\n",
    "ax.set_title('Bounded Ridge plus Logistic Regression \\n Actual vs Predicted lactose')\n",
    "plt.show()"
   ]
  },
  {
   "cell_type": "code",
   "execution_count": 24,
   "metadata": {},
   "outputs": [
    {
     "data": {
      "text/plain": [
       "{'C': 215443.46900318822, 'alpha': 27.825594022071257}"
      ]
     },
     "execution_count": 24,
     "metadata": {},
     "output_type": "execute_result"
    }
   ],
   "source": [
    "search.best_estimator_.get_params()"
   ]
  },
  {
   "cell_type": "code",
   "execution_count": 25,
   "metadata": {},
   "outputs": [
    {
     "data": {
      "text/html": [
       "<div>\n",
       "<style scoped>\n",
       "    .dataframe tbody tr th:only-of-type {\n",
       "        vertical-align: middle;\n",
       "    }\n",
       "\n",
       "    .dataframe tbody tr th {\n",
       "        vertical-align: top;\n",
       "    }\n",
       "\n",
       "    .dataframe thead th {\n",
       "        text-align: right;\n",
       "    }\n",
       "</style>\n",
       "<table border=\"1\" class=\"dataframe\">\n",
       "  <thead>\n",
       "    <tr style=\"text-align: right;\">\n",
       "      <th></th>\n",
       "      <th>cv_test_r2</th>\n",
       "      <th>cv_train_r2</th>\n",
       "      <th>cv_test_SRC</th>\n",
       "      <th>cv_train_SRC</th>\n",
       "      <th>cv_test_PCC</th>\n",
       "      <th>cv_train_PCC</th>\n",
       "      <th>cv_test_MI</th>\n",
       "      <th>cv_train_MI</th>\n",
       "      <th>cv_test_MAE</th>\n",
       "      <th>cv_train_MAE</th>\n",
       "      <th>cv_test_accuracy</th>\n",
       "      <th>cv_train_accuracy</th>\n",
       "      <th>cv_test_recall</th>\n",
       "      <th>cv_train_recall</th>\n",
       "    </tr>\n",
       "  </thead>\n",
       "  <tbody>\n",
       "    <tr>\n",
       "      <th>Dummy Mean</th>\n",
       "      <td>-0.02</td>\n",
       "      <td>0.00</td>\n",
       "      <td>0.00</td>\n",
       "      <td>0.00</td>\n",
       "      <td>0.00</td>\n",
       "      <td>0.00</td>\n",
       "      <td>0.00</td>\n",
       "      <td>0.00</td>\n",
       "      <td>1.94</td>\n",
       "      <td>1.93</td>\n",
       "      <td>NaN</td>\n",
       "      <td>NaN</td>\n",
       "      <td>NaN</td>\n",
       "      <td>NaN</td>\n",
       "    </tr>\n",
       "    <tr>\n",
       "      <th>Dummy Median All</th>\n",
       "      <td>-0.32</td>\n",
       "      <td>-0.29</td>\n",
       "      <td>0.00</td>\n",
       "      <td>0.00</td>\n",
       "      <td>0.00</td>\n",
       "      <td>0.00</td>\n",
       "      <td>0.01</td>\n",
       "      <td>0.00</td>\n",
       "      <td>1.68</td>\n",
       "      <td>1.68</td>\n",
       "      <td>NaN</td>\n",
       "      <td>NaN</td>\n",
       "      <td>NaN</td>\n",
       "      <td>NaN</td>\n",
       "    </tr>\n",
       "    <tr>\n",
       "      <th>Dummy Median Nonzero</th>\n",
       "      <td>-0.08</td>\n",
       "      <td>-0.06</td>\n",
       "      <td>0.00</td>\n",
       "      <td>0.00</td>\n",
       "      <td>0.00</td>\n",
       "      <td>0.00</td>\n",
       "      <td>0.00</td>\n",
       "      <td>0.01</td>\n",
       "      <td>1.77</td>\n",
       "      <td>1.77</td>\n",
       "      <td>NaN</td>\n",
       "      <td>NaN</td>\n",
       "      <td>NaN</td>\n",
       "      <td>NaN</td>\n",
       "    </tr>\n",
       "    <tr>\n",
       "      <th>Perfect Clasif., Mean Regr.</th>\n",
       "      <td>0.13</td>\n",
       "      <td>0.13</td>\n",
       "      <td>0.73</td>\n",
       "      <td>0.73</td>\n",
       "      <td>0.41</td>\n",
       "      <td>0.40</td>\n",
       "      <td>0.47</td>\n",
       "      <td>0.51</td>\n",
       "      <td>1.53</td>\n",
       "      <td>1.53</td>\n",
       "      <td>NaN</td>\n",
       "      <td>NaN</td>\n",
       "      <td>NaN</td>\n",
       "      <td>NaN</td>\n",
       "    </tr>\n",
       "    <tr>\n",
       "      <th>Lasso</th>\n",
       "      <td>0.45</td>\n",
       "      <td>0.59</td>\n",
       "      <td>0.61</td>\n",
       "      <td>0.67</td>\n",
       "      <td>0.70</td>\n",
       "      <td>0.78</td>\n",
       "      <td>0.41</td>\n",
       "      <td>0.69</td>\n",
       "      <td>1.23</td>\n",
       "      <td>1.10</td>\n",
       "      <td>NaN</td>\n",
       "      <td>NaN</td>\n",
       "      <td>NaN</td>\n",
       "      <td>NaN</td>\n",
       "    </tr>\n",
       "    <tr>\n",
       "      <th>Bounded Lasso</th>\n",
       "      <td>0.55</td>\n",
       "      <td>0.66</td>\n",
       "      <td>0.64</td>\n",
       "      <td>0.69</td>\n",
       "      <td>0.75</td>\n",
       "      <td>0.82</td>\n",
       "      <td>0.42</td>\n",
       "      <td>0.66</td>\n",
       "      <td>1.08</td>\n",
       "      <td>0.97</td>\n",
       "      <td>NaN</td>\n",
       "      <td>NaN</td>\n",
       "      <td>NaN</td>\n",
       "      <td>NaN</td>\n",
       "    </tr>\n",
       "    <tr>\n",
       "      <th>Logistic Regression Classifier</th>\n",
       "      <td>NaN</td>\n",
       "      <td>NaN</td>\n",
       "      <td>NaN</td>\n",
       "      <td>NaN</td>\n",
       "      <td>NaN</td>\n",
       "      <td>NaN</td>\n",
       "      <td>NaN</td>\n",
       "      <td>NaN</td>\n",
       "      <td>NaN</td>\n",
       "      <td>NaN</td>\n",
       "      <td>0.89</td>\n",
       "      <td>1.0</td>\n",
       "      <td>0.95</td>\n",
       "      <td>1.0</td>\n",
       "    </tr>\n",
       "    <tr>\n",
       "      <th>Bounded Lasso + LogReg</th>\n",
       "      <td>0.64</td>\n",
       "      <td>0.74</td>\n",
       "      <td>0.80</td>\n",
       "      <td>0.89</td>\n",
       "      <td>0.82</td>\n",
       "      <td>0.87</td>\n",
       "      <td>0.61</td>\n",
       "      <td>0.86</td>\n",
       "      <td>0.86</td>\n",
       "      <td>0.74</td>\n",
       "      <td>NaN</td>\n",
       "      <td>NaN</td>\n",
       "      <td>NaN</td>\n",
       "      <td>NaN</td>\n",
       "    </tr>\n",
       "    <tr>\n",
       "      <th>Ridge</th>\n",
       "      <td>0.42</td>\n",
       "      <td>0.56</td>\n",
       "      <td>0.60</td>\n",
       "      <td>0.66</td>\n",
       "      <td>0.69</td>\n",
       "      <td>0.76</td>\n",
       "      <td>0.42</td>\n",
       "      <td>0.61</td>\n",
       "      <td>1.23</td>\n",
       "      <td>1.12</td>\n",
       "      <td>NaN</td>\n",
       "      <td>NaN</td>\n",
       "      <td>NaN</td>\n",
       "      <td>NaN</td>\n",
       "    </tr>\n",
       "    <tr>\n",
       "      <th>Bounded Ridge</th>\n",
       "      <td>0.53</td>\n",
       "      <td>0.65</td>\n",
       "      <td>0.63</td>\n",
       "      <td>0.70</td>\n",
       "      <td>0.74</td>\n",
       "      <td>0.82</td>\n",
       "      <td>0.46</td>\n",
       "      <td>0.68</td>\n",
       "      <td>1.10</td>\n",
       "      <td>0.97</td>\n",
       "      <td>NaN</td>\n",
       "      <td>NaN</td>\n",
       "      <td>NaN</td>\n",
       "      <td>NaN</td>\n",
       "    </tr>\n",
       "    <tr>\n",
       "      <th>Bounded Ridge + LogReg</th>\n",
       "      <td>0.64</td>\n",
       "      <td>0.71</td>\n",
       "      <td>0.81</td>\n",
       "      <td>0.89</td>\n",
       "      <td>0.82</td>\n",
       "      <td>0.87</td>\n",
       "      <td>0.60</td>\n",
       "      <td>0.90</td>\n",
       "      <td>0.87</td>\n",
       "      <td>0.76</td>\n",
       "      <td>NaN</td>\n",
       "      <td>NaN</td>\n",
       "      <td>NaN</td>\n",
       "      <td>NaN</td>\n",
       "    </tr>\n",
       "  </tbody>\n",
       "</table>\n",
       "</div>"
      ],
      "text/plain": [
       "                                cv_test_r2  cv_train_r2  cv_test_SRC  \\\n",
       "Dummy Mean                           -0.02         0.00         0.00   \n",
       "Dummy Median All                     -0.32        -0.29         0.00   \n",
       "Dummy Median Nonzero                 -0.08        -0.06         0.00   \n",
       "Perfect Clasif., Mean Regr.           0.13         0.13         0.73   \n",
       "Lasso                                 0.45         0.59         0.61   \n",
       "Bounded Lasso                         0.55         0.66         0.64   \n",
       "Logistic Regression Classifier         NaN          NaN          NaN   \n",
       "Bounded Lasso + LogReg                0.64         0.74         0.80   \n",
       "Ridge                                 0.42         0.56         0.60   \n",
       "Bounded Ridge                         0.53         0.65         0.63   \n",
       "Bounded Ridge + LogReg                0.64         0.71         0.81   \n",
       "\n",
       "                                cv_train_SRC  cv_test_PCC  cv_train_PCC  \\\n",
       "Dummy Mean                              0.00         0.00          0.00   \n",
       "Dummy Median All                        0.00         0.00          0.00   \n",
       "Dummy Median Nonzero                    0.00         0.00          0.00   \n",
       "Perfect Clasif., Mean Regr.             0.73         0.41          0.40   \n",
       "Lasso                                   0.67         0.70          0.78   \n",
       "Bounded Lasso                           0.69         0.75          0.82   \n",
       "Logistic Regression Classifier           NaN          NaN           NaN   \n",
       "Bounded Lasso + LogReg                  0.89         0.82          0.87   \n",
       "Ridge                                   0.66         0.69          0.76   \n",
       "Bounded Ridge                           0.70         0.74          0.82   \n",
       "Bounded Ridge + LogReg                  0.89         0.82          0.87   \n",
       "\n",
       "                                cv_test_MI  cv_train_MI  cv_test_MAE  \\\n",
       "Dummy Mean                            0.00         0.00         1.94   \n",
       "Dummy Median All                      0.01         0.00         1.68   \n",
       "Dummy Median Nonzero                  0.00         0.01         1.77   \n",
       "Perfect Clasif., Mean Regr.           0.47         0.51         1.53   \n",
       "Lasso                                 0.41         0.69         1.23   \n",
       "Bounded Lasso                         0.42         0.66         1.08   \n",
       "Logistic Regression Classifier         NaN          NaN          NaN   \n",
       "Bounded Lasso + LogReg                0.61         0.86         0.86   \n",
       "Ridge                                 0.42         0.61         1.23   \n",
       "Bounded Ridge                         0.46         0.68         1.10   \n",
       "Bounded Ridge + LogReg                0.60         0.90         0.87   \n",
       "\n",
       "                                cv_train_MAE  cv_test_accuracy  \\\n",
       "Dummy Mean                              1.93               NaN   \n",
       "Dummy Median All                        1.68               NaN   \n",
       "Dummy Median Nonzero                    1.77               NaN   \n",
       "Perfect Clasif., Mean Regr.             1.53               NaN   \n",
       "Lasso                                   1.10               NaN   \n",
       "Bounded Lasso                           0.97               NaN   \n",
       "Logistic Regression Classifier           NaN              0.89   \n",
       "Bounded Lasso + LogReg                  0.74               NaN   \n",
       "Ridge                                   1.12               NaN   \n",
       "Bounded Ridge                           0.97               NaN   \n",
       "Bounded Ridge + LogReg                  0.76               NaN   \n",
       "\n",
       "                                cv_train_accuracy  cv_test_recall  \\\n",
       "Dummy Mean                                    NaN             NaN   \n",
       "Dummy Median All                              NaN             NaN   \n",
       "Dummy Median Nonzero                          NaN             NaN   \n",
       "Perfect Clasif., Mean Regr.                   NaN             NaN   \n",
       "Lasso                                         NaN             NaN   \n",
       "Bounded Lasso                                 NaN             NaN   \n",
       "Logistic Regression Classifier                1.0            0.95   \n",
       "Bounded Lasso + LogReg                        NaN             NaN   \n",
       "Ridge                                         NaN             NaN   \n",
       "Bounded Ridge                                 NaN             NaN   \n",
       "Bounded Ridge + LogReg                        NaN             NaN   \n",
       "\n",
       "                                cv_train_recall  \n",
       "Dummy Mean                                  NaN  \n",
       "Dummy Median All                            NaN  \n",
       "Dummy Median Nonzero                        NaN  \n",
       "Perfect Clasif., Mean Regr.                 NaN  \n",
       "Lasso                                       NaN  \n",
       "Bounded Lasso                               NaN  \n",
       "Logistic Regression Classifier              1.0  \n",
       "Bounded Lasso + LogReg                      NaN  \n",
       "Ridge                                       NaN  \n",
       "Bounded Ridge                               NaN  \n",
       "Bounded Ridge + LogReg                      NaN  "
      ]
     },
     "execution_count": 25,
     "metadata": {},
     "output_type": "execute_result"
    }
   ],
   "source": [
    "overall_results = scores_to_df(overall_results,'Bounded Ridge + LogReg',search.cv_results_,refit)\n",
    "overall_results"
   ]
  },
  {
   "cell_type": "code",
   "execution_count": 26,
   "metadata": {},
   "outputs": [],
   "source": [
    "overall_results.to_csv('../reports/cv_results.csv')"
   ]
  },
  {
   "cell_type": "code",
   "execution_count": 27,
   "metadata": {},
   "outputs": [],
   "source": [
    "model = fitted.best_estimator_\n",
    "with open(\"../models/ridge_combined.model\", \"wb\" ) as f:\n",
    "    pkl.dump(model,f)"
   ]
  }
 ],
 "metadata": {
  "kernelspec": {
   "display_name": "Python 3",
   "language": "python",
   "name": "python3"
  },
  "language_info": {
   "codemirror_mode": {
    "name": "ipython",
    "version": 3
   },
   "file_extension": ".py",
   "mimetype": "text/x-python",
   "name": "python",
   "nbconvert_exporter": "python",
   "pygments_lexer": "ipython3",
   "version": "3.6.9"
  }
 },
 "nbformat": 4,
 "nbformat_minor": 2
}
