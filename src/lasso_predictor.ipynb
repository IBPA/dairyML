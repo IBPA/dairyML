{
 "cells": [
  {
   "cell_type": "code",
   "execution_count": 2,
   "metadata": {},
   "outputs": [],
   "source": [
    "import pandas as pd\n",
    "\n",
    "import pickle as pkl\n",
    "\n",
    "from sklearn.linear_model import Lasso, LassoCV, LogisticRegressionCV, LogisticRegression\n",
    "from sklearn.svm import SVC\n",
    "from sklearn.preprocessing import StandardScaler\n",
    "from sklearn.model_selection import cross_val_score, GridSearchCV, cross_validate, KFold, cross_val_predict\n",
    "from sklearn.metrics import r2_score, explained_variance_score, normalized_mutual_info_score, \\\n",
    "    mutual_info_score, mean_absolute_error, make_scorer\n",
    "from sklearn.dummy import DummyRegressor\n",
    "from sklearn.utils.validation import check_X_y, check_array, check_is_fitted\n",
    "from sklearn.decomposition import PCA\n",
    "from sklearn.manifold import TSNE\n",
    "from sklearn.ensemble import IsolationForest\n",
    "\n",
    "from skll.metrics import spearman, pearson \n",
    "\n",
    "\n",
    "import numpy as np\n",
    "import matplotlib.pyplot as plt\n",
    "import seaborn as sns\n",
    "\n",
    "import warnings\n",
    "warnings.filterwarnings('ignore')\n",
    "from pylab import rcParams\n",
    "rcParams['figure.figsize'] = 6,6"
   ]
  },
  {
   "cell_type": "markdown",
   "metadata": {},
   "source": [
    "Custom model implementations and functions are stored in `src/dairyml.py`"
   ]
  },
  {
   "cell_type": "code",
   "execution_count": 25,
   "metadata": {},
   "outputs": [],
   "source": [
    "from dairyml import PerfectClassifierMeanRegressor, plot_r2, BoundedLasso, BoundedLassoPlusLogReg, plot_coefficients, DummyRegressorCustom"
   ]
  },
  {
   "cell_type": "markdown",
   "metadata": {},
   "source": [
    "## Import the Data\n",
    "Load the data from the pickle files created in `preproccess.ipynb`"
   ]
  },
  {
   "cell_type": "code",
   "execution_count": 3,
   "metadata": {},
   "outputs": [],
   "source": [
    "with open(\"../pkl/data/data_outliers_removed\", \"rb\" ) as f:\n",
    "    [X, Y] = pkl.load(f)"
   ]
  },
  {
   "cell_type": "markdown",
   "metadata": {},
   "source": [
    "## Modelling with Lasso"
   ]
  },
  {
   "cell_type": "markdown",
   "metadata": {},
   "source": [
    "Define a splitter- this produces the data splits used for cross-validation. `random_state` is defined for repeatability. "
   ]
  },
  {
   "cell_type": "code",
   "execution_count": 7,
   "metadata": {},
   "outputs": [],
   "source": [
    "splitter= KFold(n_splits=10,shuffle=True,random_state=7)"
   ]
  },
  {
   "cell_type": "markdown",
   "metadata": {},
   "source": [
    "Choose statistics used to evaluate the models"
   ]
  },
  {
   "cell_type": "code",
   "execution_count": 8,
   "metadata": {},
   "outputs": [],
   "source": [
    "scoring = {'r2':make_scorer(r2_score), \n",
    "           'SRC':make_scorer(spearman), \n",
    "           'PCC':make_scorer(pearson), \n",
    "           'MI':make_scorer(mutual_info_score), \n",
    "           'MAE':make_scorer(mean_absolute_error)}"
   ]
  },
  {
   "cell_type": "code",
   "execution_count": 17,
   "metadata": {},
   "outputs": [],
   "source": [
    "try:\n",
    "    overall_results = pd.read_csv('../reports/model_results.csv',index_col=0)\n",
    "except FileNotFoundError:\n",
    "    overall_results = pd.DataFrame(columns = scoring.keys())"
   ]
  },
  {
   "cell_type": "markdown",
   "metadata": {},
   "source": [
    "### Lasso"
   ]
  },
  {
   "cell_type": "markdown",
   "metadata": {},
   "source": [
    "- Conduct a grid search on the regularization parameter alpha on a log scale between 1e-3 and 1 (np.logspace takes exponents of 10 as arguments)\n",
    "- For each value of alpha in this range, we perform 10-fold cross validation (CV) on the training data\n",
    "- Choose the best model based on R^2 score in CV using the `refit` argument of `GridSearchCV`"
   ]
  },
  {
   "cell_type": "code",
   "execution_count": 19,
   "metadata": {},
   "outputs": [
    {
     "data": {
      "text/plain": [
       "GridSearchCV(cv=KFold(n_splits=10, random_state=7, shuffle=True),\n",
       "       error_score='raise-deprecating',\n",
       "       estimator=Lasso(alpha=1.0, copy_X=True, fit_intercept=True, max_iter=1000,\n",
       "   normalize=False, positive=False, precompute=False, random_state=None,\n",
       "   selection='cyclic', tol=0.0001, warm_start=False),\n",
       "       fit_params=None, iid='warn', n_jobs=None,\n",
       "       param_grid={'alpha': array([0.001  , 0.00115, 0.00133, 0.00153, 0.00176, 0.00202, 0.00233,\n",
       "       0.00268, 0.00309, 0.00356, 0.00409, 0.00471, 0.00543, 0.00625,\n",
       "       0.0072 , 0.00829, 0.00954, 0.01099, 0.01265, 0.01456, 0.01677,\n",
       "       0.01931, 0.02223, 0.0256 , 0.02947, 0.03393, 0.03907, 0.04498,...18, 0.32375,\n",
       "       0.37276, 0.42919, 0.49417, 0.56899, 0.65513, 0.75431, 0.86851,\n",
       "       1.     ])},\n",
       "       pre_dispatch='2*n_jobs', refit='r2', return_train_score='warn',\n",
       "       scoring={'r2': make_scorer(r2_score), 'SRC': make_scorer(spearman), 'PCC': make_scorer(pearson), 'MI': make_scorer(mutual_info_score), 'MAE': make_scorer(mean_absolute_error)},\n",
       "       verbose=0)"
      ]
     },
     "execution_count": 19,
     "metadata": {},
     "output_type": "execute_result"
    }
   ],
   "source": [
    "param_grid = {'alpha': np.logspace(-3, 0, 50)}\n",
    "\n",
    "refit = 'r2'\n",
    "\n",
    "search = GridSearchCV(estimator=Lasso(),param_grid=param_grid,scoring=scoring,refit=refit,cv=splitter)\n",
    "search.fit(X,Y)"
   ]
  },
  {
   "cell_type": "markdown",
   "metadata": {},
   "source": [
    "#### Best value of alpha for Lasso\n",
    "Print the best value of the regularization parameter, as chosen by 10-fold CV R^2 score above"
   ]
  },
  {
   "cell_type": "code",
   "execution_count": 20,
   "metadata": {},
   "outputs": [
    {
     "data": {
      "text/plain": [
       "0.03906939937054617"
      ]
     },
     "execution_count": 20,
     "metadata": {},
     "output_type": "execute_result"
    }
   ],
   "source": [
    "search.best_estimator_.alpha"
   ]
  },
  {
   "cell_type": "markdown",
   "metadata": {},
   "source": [
    "#### Lasso test performance\n",
    "Highest R^2 score for the Lasso model from 10-fold CV (this is the performance we can expect on the test set)"
   ]
  },
  {
   "cell_type": "code",
   "execution_count": 21,
   "metadata": {},
   "outputs": [
    {
     "data": {
      "text/plain": [
       "0.4476823274646198"
      ]
     },
     "execution_count": 21,
     "metadata": {},
     "output_type": "execute_result"
    }
   ],
   "source": [
    "search.cv_results_['mean_test_r2'][np.argmax(search.cv_results_['mean_test_'+refit])]"
   ]
  },
  {
   "cell_type": "code",
   "execution_count": 22,
   "metadata": {},
   "outputs": [
    {
     "data": {
      "text/html": [
       "<div>\n",
       "<style scoped>\n",
       "    .dataframe tbody tr th:only-of-type {\n",
       "        vertical-align: middle;\n",
       "    }\n",
       "\n",
       "    .dataframe tbody tr th {\n",
       "        vertical-align: top;\n",
       "    }\n",
       "\n",
       "    .dataframe thead th {\n",
       "        text-align: right;\n",
       "    }\n",
       "</style>\n",
       "<table border=\"1\" class=\"dataframe\">\n",
       "  <thead>\n",
       "    <tr style=\"text-align: right;\">\n",
       "      <th></th>\n",
       "      <th>r2</th>\n",
       "      <th>SRC</th>\n",
       "      <th>PCC</th>\n",
       "      <th>MI</th>\n",
       "      <th>MAE</th>\n",
       "    </tr>\n",
       "  </thead>\n",
       "  <tbody>\n",
       "    <tr>\n",
       "      <th>Dummy Mean</th>\n",
       "      <td>-0.02</td>\n",
       "      <td>0.00</td>\n",
       "      <td>-0.00</td>\n",
       "      <td>-0.00</td>\n",
       "      <td>1.94</td>\n",
       "    </tr>\n",
       "    <tr>\n",
       "      <th>Dummy Median All</th>\n",
       "      <td>-0.32</td>\n",
       "      <td>0.00</td>\n",
       "      <td>-0.00</td>\n",
       "      <td>-0.00</td>\n",
       "      <td>1.68</td>\n",
       "    </tr>\n",
       "    <tr>\n",
       "      <th>Dummy Median Nonzero</th>\n",
       "      <td>-0.08</td>\n",
       "      <td>0.00</td>\n",
       "      <td>-0.00</td>\n",
       "      <td>-0.00</td>\n",
       "      <td>1.77</td>\n",
       "    </tr>\n",
       "    <tr>\n",
       "      <th>Perfect Clasif., Mean Regr.</th>\n",
       "      <td>0.13</td>\n",
       "      <td>0.73</td>\n",
       "      <td>0.41</td>\n",
       "      <td>0.53</td>\n",
       "      <td>1.53</td>\n",
       "    </tr>\n",
       "    <tr>\n",
       "      <th>Lasso</th>\n",
       "      <td>0.45</td>\n",
       "      <td>0.61</td>\n",
       "      <td>0.70</td>\n",
       "      <td>3.07</td>\n",
       "      <td>1.23</td>\n",
       "    </tr>\n",
       "  </tbody>\n",
       "</table>\n",
       "</div>"
      ],
      "text/plain": [
       "                               r2   SRC   PCC    MI   MAE\n",
       "Dummy Mean                  -0.02  0.00 -0.00 -0.00  1.94\n",
       "Dummy Median All            -0.32  0.00 -0.00 -0.00  1.68\n",
       "Dummy Median Nonzero        -0.08  0.00 -0.00 -0.00  1.77\n",
       "Perfect Clasif., Mean Regr.  0.13  0.73  0.41  0.53  1.53\n",
       "Lasso                        0.45  0.61  0.70  3.07  1.23"
      ]
     },
     "execution_count": 22,
     "metadata": {},
     "output_type": "execute_result"
    }
   ],
   "source": [
    "for score_name in scoring.keys():\n",
    "    overall_results.loc['Lasso',score_name] = np.round(search.cv_results_['mean_test_'+score_name][np.argmax(search.cv_results_['mean_test_'+refit])],2)\n",
    "overall_results"
   ]
  },
  {
   "cell_type": "markdown",
   "metadata": {},
   "source": [
    "### Bounded Lasso\n",
    "This attempts to fix an obvious issue with the above predictor, that the model predicts negative lactose content for some foods. BoundedLasso wraps sklearn's Lasso model, and \"clips\" the model output so that negative output values become 0. "
   ]
  },
  {
   "cell_type": "code",
   "execution_count": 31,
   "metadata": {},
   "outputs": [
    {
     "data": {
      "text/plain": [
       "GridSearchCV(cv=KFold(n_splits=10, random_state=7, shuffle=True),\n",
       "       error_score='raise-deprecating', estimator=BoundedLasso(alpha=None),\n",
       "       fit_params=None, iid='warn', n_jobs=None,\n",
       "       param_grid={'alpha': array([0.001  , 0.00107, ..., 0.9326 , 1.     ])},\n",
       "       pre_dispatch='2*n_jobs', refit='r2', return_train_score='warn',\n",
       "       scoring={'r2': make_scorer(r2_score), 'SRC': make_scorer(spearman), 'PCC': make_scorer(pearson), 'MI': make_scorer(mutual_info_score), 'MAE': make_scorer(mean_absolute_error)},\n",
       "       verbose=0)"
      ]
     },
     "execution_count": 31,
     "metadata": {},
     "output_type": "execute_result"
    }
   ],
   "source": [
    "param_grid = {'alpha': np.logspace(-3, 0, 100)}\n",
    "\n",
    "refit = 'r2'\n",
    "\n",
    "search = GridSearchCV(estimator=BoundedLasso(),param_grid=param_grid,scoring=scoring,refit=refit,cv=splitter)\n",
    "search.fit(X,Y)"
   ]
  },
  {
   "cell_type": "markdown",
   "metadata": {},
   "source": [
    "#### Best value of alpha for Bounded Lasso\n",
    "Print the best value of the regularization parameter, as chosen by 10-fold CV R^2 score above"
   ]
  },
  {
   "cell_type": "code",
   "execution_count": 32,
   "metadata": {},
   "outputs": [
    {
     "data": {
      "text/plain": [
       "0.02009233002565047"
      ]
     },
     "execution_count": 32,
     "metadata": {},
     "output_type": "execute_result"
    }
   ],
   "source": [
    "search.best_estimator_.alpha"
   ]
  },
  {
   "cell_type": "markdown",
   "metadata": {},
   "source": [
    "#### Bounded Lasso test results"
   ]
  },
  {
   "cell_type": "code",
   "execution_count": 33,
   "metadata": {},
   "outputs": [
    {
     "data": {
      "text/html": [
       "<div>\n",
       "<style scoped>\n",
       "    .dataframe tbody tr th:only-of-type {\n",
       "        vertical-align: middle;\n",
       "    }\n",
       "\n",
       "    .dataframe tbody tr th {\n",
       "        vertical-align: top;\n",
       "    }\n",
       "\n",
       "    .dataframe thead th {\n",
       "        text-align: right;\n",
       "    }\n",
       "</style>\n",
       "<table border=\"1\" class=\"dataframe\">\n",
       "  <thead>\n",
       "    <tr style=\"text-align: right;\">\n",
       "      <th></th>\n",
       "      <th>r2</th>\n",
       "      <th>SRC</th>\n",
       "      <th>PCC</th>\n",
       "      <th>MI</th>\n",
       "      <th>MAE</th>\n",
       "    </tr>\n",
       "  </thead>\n",
       "  <tbody>\n",
       "    <tr>\n",
       "      <th>Dummy Mean</th>\n",
       "      <td>-0.02</td>\n",
       "      <td>0.00</td>\n",
       "      <td>-0.00</td>\n",
       "      <td>-0.00</td>\n",
       "      <td>1.94</td>\n",
       "    </tr>\n",
       "    <tr>\n",
       "      <th>Dummy Median All</th>\n",
       "      <td>-0.32</td>\n",
       "      <td>0.00</td>\n",
       "      <td>-0.00</td>\n",
       "      <td>-0.00</td>\n",
       "      <td>1.68</td>\n",
       "    </tr>\n",
       "    <tr>\n",
       "      <th>Dummy Median Nonzero</th>\n",
       "      <td>-0.08</td>\n",
       "      <td>0.00</td>\n",
       "      <td>-0.00</td>\n",
       "      <td>-0.00</td>\n",
       "      <td>1.77</td>\n",
       "    </tr>\n",
       "    <tr>\n",
       "      <th>Perfect Clasif., Mean Regr.</th>\n",
       "      <td>0.13</td>\n",
       "      <td>0.73</td>\n",
       "      <td>0.41</td>\n",
       "      <td>0.53</td>\n",
       "      <td>1.53</td>\n",
       "    </tr>\n",
       "    <tr>\n",
       "      <th>Lasso</th>\n",
       "      <td>0.45</td>\n",
       "      <td>0.61</td>\n",
       "      <td>0.70</td>\n",
       "      <td>3.07</td>\n",
       "      <td>1.23</td>\n",
       "    </tr>\n",
       "    <tr>\n",
       "      <th>Bounded Lasso</th>\n",
       "      <td>0.55</td>\n",
       "      <td>0.64</td>\n",
       "      <td>0.75</td>\n",
       "      <td>2.87</td>\n",
       "      <td>1.08</td>\n",
       "    </tr>\n",
       "  </tbody>\n",
       "</table>\n",
       "</div>"
      ],
      "text/plain": [
       "                               r2   SRC   PCC    MI   MAE\n",
       "Dummy Mean                  -0.02  0.00 -0.00 -0.00  1.94\n",
       "Dummy Median All            -0.32  0.00 -0.00 -0.00  1.68\n",
       "Dummy Median Nonzero        -0.08  0.00 -0.00 -0.00  1.77\n",
       "Perfect Clasif., Mean Regr.  0.13  0.73  0.41  0.53  1.53\n",
       "Lasso                        0.45  0.61  0.70  3.07  1.23\n",
       "Bounded Lasso                0.55  0.64  0.75  2.87  1.08"
      ]
     },
     "execution_count": 33,
     "metadata": {},
     "output_type": "execute_result"
    }
   ],
   "source": [
    "for score_name in scoring.keys():\n",
    "    overall_results.loc['Bounded Lasso',score_name] = np.round(search.cv_results_['mean_test_'+score_name][np.argmax(search.cv_results_['mean_test_'+refit])],2)\n",
    "overall_results"
   ]
  },
  {
   "cell_type": "markdown",
   "metadata": {},
   "source": [
    "#### Feature importances\n",
    "Here we plot the non-zero coefficients of the Bounded Lasso model. The magnitude of the coefficient for each feature indicates how much each feature contributes to the overall lactose estimate. We can see that choline, sugar, and potassium contribute positively to the lactose estimate, while fiber, cholesterol, and protein contribute negatively. "
   ]
  },
  {
   "cell_type": "code",
   "execution_count": 34,
   "metadata": {},
   "outputs": [],
   "source": [
    "# plot_coefficients(search.best_estimator_,X)"
   ]
  },
  {
   "cell_type": "markdown",
   "metadata": {},
   "source": [
    "### Bounded Lasso plus Classifier\n",
    "- Add a binary classifier to the model to predict whether a food is zero or non-zero lactose. \n",
    "- In the case that the classifier predicts 0 lactose, the overall model output is 0. \n",
    "- In the case that the classifier predicts non-zero, the output from the bounded lasso model is used\n",
    "\n",
    "#### Evaluate the classifier by itself"
   ]
  },
  {
   "cell_type": "code",
   "execution_count": 35,
   "metadata": {},
   "outputs": [
    {
     "data": {
      "text/plain": [
       "GridSearchCV(cv=10, error_score='raise-deprecating',\n",
       "       estimator=LogisticRegression(C=1.0, class_weight=None, dual=False, fit_intercept=True,\n",
       "          intercept_scaling=1, max_iter=2000, multi_class='warn',\n",
       "          n_jobs=None, penalty='l2', random_state=None, solver='lbfgs',\n",
       "          tol=0.0001, verbose=0, warm_start=False),\n",
       "       fit_params=None, iid='warn', n_jobs=None,\n",
       "       param_grid={'C': array([1.00000e-04, 1.88739e-04, 3.56225e-04, 6.72336e-04, 1.26896e-03,\n",
       "       2.39503e-03, 4.52035e-03, 8.53168e-03, 1.61026e-02, 3.03920e-02,\n",
       "       5.73615e-02, 1.08264e-01, 2.04336e-01, 3.85662e-01, 7.27895e-01,\n",
       "       1.37382e+00, 2.59294e+00, 4.89390e+00, 9.23671e+00, 1.74333e+01,\n",
       "       3.29034e+01, 6.21017e+01, 1.17210e+02, 2.21222e+02, 4.17532e+02,\n",
       "       7.88046e+02, 1.48735e+03, 2.80722e+03, 5.29832e+03, 1.00000e+04])},\n",
       "       pre_dispatch='2*n_jobs', refit='accuracy',\n",
       "       return_train_score='warn', scoring=('accuracy', 'recall'),\n",
       "       verbose=0)"
      ]
     },
     "execution_count": 35,
     "metadata": {},
     "output_type": "execute_result"
    }
   ],
   "source": [
    "Y_binary = Y != 0\n",
    "\n",
    "param_grid_LR = {'C': np.logspace(-4, 4, 30)}\n",
    "\n",
    "search_LR = GridSearchCV(estimator=LogisticRegression(solver='lbfgs',max_iter=2000),param_grid=param_grid_LR,scoring=('accuracy','recall'),refit='accuracy',cv=10)\n",
    "search_LR.fit(X,Y_binary)\n",
    "\n",
    "# param_grid_SVC = {'C': np.logspace(-4, 4, 30)}\n",
    "# search_SVC = GridSearchCV(estimator=SVC(kernel='rbf'),param_grid=param_grid_SVC,scoring=('accuracy','recall'),refit='accuracy',cv=10)\n",
    "# search_SVC.fit(X,Y_binary)"
   ]
  },
  {
   "cell_type": "markdown",
   "metadata": {},
   "source": [
    "#### Classifier accuracy\n",
    "The classifier achieves 89% accuracy in predicting 0 vs non-zero lactose."
   ]
  },
  {
   "cell_type": "code",
   "execution_count": 36,
   "metadata": {},
   "outputs": [
    {
     "data": {
      "text/plain": [
       "0.8873994638069705"
      ]
     },
     "execution_count": 36,
     "metadata": {},
     "output_type": "execute_result"
    }
   ],
   "source": [
    "search_LR.best_score_"
   ]
  },
  {
   "cell_type": "markdown",
   "metadata": {},
   "source": [
    "### Evaluate the Bounded Lasso + Classifier Model"
   ]
  },
  {
   "cell_type": "markdown",
   "metadata": {},
   "source": [
    "adjusted C grid below to give slightly more resolution around the chosen value from previous run"
   ]
  },
  {
   "cell_type": "code",
   "execution_count": 51,
   "metadata": {},
   "outputs": [
    {
     "data": {
      "text/plain": [
       "GridSearchCV(cv=KFold(n_splits=10, random_state=7, shuffle=True),\n",
       "       error_score='raise-deprecating',\n",
       "       estimator=BoundedLassoPlusLogReg(C=None, alpha=None),\n",
       "       fit_params=None, iid='warn', n_jobs=None,\n",
       "       param_grid={'alpha': array([0.001  , 0.00167, 0.00278, 0.00464, 0.00774, 0.01292, 0.02154,\n",
       "       0.03594, 0.05995, 0.1    ]), 'C': array([  10000.     ,   16681.00537,   27825.59402,   46415.88834,\n",
       "         77426.36827,  129154.9665 ,  215443.469  ,  359381.36638,\n",
       "        599484.25032, 1000000.     ])},\n",
       "       pre_dispatch='2*n_jobs', refit='r2', return_train_score='warn',\n",
       "       scoring={'r2': make_scorer(r2_score), 'SRC': make_scorer(spearman), 'PCC': make_scorer(pearson), 'MI': make_scorer(mutual_info_score), 'MAE': make_scorer(mean_absolute_error)},\n",
       "       verbose=0)"
      ]
     },
     "execution_count": 51,
     "metadata": {},
     "output_type": "execute_result"
    }
   ],
   "source": [
    "param_grid = {'alpha': np.logspace(-3, -1, 10), 'C': np.logspace(4, 6, 10)}\n",
    "refit='r2'\n",
    "search = GridSearchCV(estimator=BoundedLassoPlusLogReg(),param_grid=param_grid,scoring=scoring,refit=refit,cv=splitter)\n",
    "search.fit(X,Y)"
   ]
  },
  {
   "cell_type": "markdown",
   "metadata": {},
   "source": [
    "#### Plot actual vs predicted results"
   ]
  },
  {
   "cell_type": "code",
   "execution_count": 52,
   "metadata": {},
   "outputs": [],
   "source": [
    "y_pred = cross_val_predict(search.best_estimator_,X,Y,cv=splitter)"
   ]
  },
  {
   "cell_type": "code",
   "execution_count": 53,
   "metadata": {},
   "outputs": [
    {
     "data": {
      "image/png": "[encoded data removed]",
      "text/plain": [
       "<Figure size 576x576 with 1 Axes>"
      ]
     },
     "metadata": {
      "needs_background": "light"
     },
     "output_type": "display_data"
    }
   ],
   "source": [
    "fig, ax = plt.subplots(figsize=[8,8])\n",
    "ax.scatter(Y, y_pred)\n",
    "ax.plot([Y.min(), Y.max()], [Y.min(), Y.max()], 'k--', lw=4)\n",
    "ax.set_xlabel('Actual')\n",
    "ax.set_ylabel('Predicted')\n",
    "ax.set_title('Bounded Lasso plus Logistic Regression \\n Actual vs Predicted lactose')\n",
    "plt.show()"
   ]
  },
  {
   "cell_type": "code",
   "execution_count": 54,
   "metadata": {},
   "outputs": [
    {
     "data": {
      "text/plain": [
       "{'C': 215443.46900318822, 'alpha': 0.021544346900318832}"
      ]
     },
     "execution_count": 54,
     "metadata": {},
     "output_type": "execute_result"
    }
   ],
   "source": [
    "search.best_estimator_.get_params()"
   ]
  },
  {
   "cell_type": "markdown",
   "metadata": {},
   "source": [
    "#### Model test performance"
   ]
  },
  {
   "cell_type": "code",
   "execution_count": 55,
   "metadata": {},
   "outputs": [
    {
     "data": {
      "text/html": [
       "<div>\n",
       "<style scoped>\n",
       "    .dataframe tbody tr th:only-of-type {\n",
       "        vertical-align: middle;\n",
       "    }\n",
       "\n",
       "    .dataframe tbody tr th {\n",
       "        vertical-align: top;\n",
       "    }\n",
       "\n",
       "    .dataframe thead th {\n",
       "        text-align: right;\n",
       "    }\n",
       "</style>\n",
       "<table border=\"1\" class=\"dataframe\">\n",
       "  <thead>\n",
       "    <tr style=\"text-align: right;\">\n",
       "      <th></th>\n",
       "      <th>r2</th>\n",
       "      <th>SRC</th>\n",
       "      <th>PCC</th>\n",
       "      <th>MI</th>\n",
       "      <th>MAE</th>\n",
       "    </tr>\n",
       "  </thead>\n",
       "  <tbody>\n",
       "    <tr>\n",
       "      <th>Dummy Mean</th>\n",
       "      <td>-0.02</td>\n",
       "      <td>0.00</td>\n",
       "      <td>-0.00</td>\n",
       "      <td>-0.00</td>\n",
       "      <td>1.94</td>\n",
       "    </tr>\n",
       "    <tr>\n",
       "      <th>Dummy Median All</th>\n",
       "      <td>-0.32</td>\n",
       "      <td>0.00</td>\n",
       "      <td>-0.00</td>\n",
       "      <td>-0.00</td>\n",
       "      <td>1.68</td>\n",
       "    </tr>\n",
       "    <tr>\n",
       "      <th>Dummy Median Nonzero</th>\n",
       "      <td>-0.08</td>\n",
       "      <td>0.00</td>\n",
       "      <td>-0.00</td>\n",
       "      <td>-0.00</td>\n",
       "      <td>1.77</td>\n",
       "    </tr>\n",
       "    <tr>\n",
       "      <th>Perfect Clasif., Mean Regr.</th>\n",
       "      <td>0.13</td>\n",
       "      <td>0.73</td>\n",
       "      <td>0.41</td>\n",
       "      <td>0.53</td>\n",
       "      <td>1.53</td>\n",
       "    </tr>\n",
       "    <tr>\n",
       "      <th>Lasso</th>\n",
       "      <td>0.45</td>\n",
       "      <td>0.61</td>\n",
       "      <td>0.70</td>\n",
       "      <td>3.07</td>\n",
       "      <td>1.23</td>\n",
       "    </tr>\n",
       "    <tr>\n",
       "      <th>Bounded Lasso</th>\n",
       "      <td>0.55</td>\n",
       "      <td>0.64</td>\n",
       "      <td>0.75</td>\n",
       "      <td>2.87</td>\n",
       "      <td>1.08</td>\n",
       "    </tr>\n",
       "    <tr>\n",
       "      <th>Bounded Lasso + LogReg</th>\n",
       "      <td>0.64</td>\n",
       "      <td>0.80</td>\n",
       "      <td>0.82</td>\n",
       "      <td>2.66</td>\n",
       "      <td>0.86</td>\n",
       "    </tr>\n",
       "  </tbody>\n",
       "</table>\n",
       "</div>"
      ],
      "text/plain": [
       "                               r2   SRC   PCC    MI   MAE\n",
       "Dummy Mean                  -0.02  0.00 -0.00 -0.00  1.94\n",
       "Dummy Median All            -0.32  0.00 -0.00 -0.00  1.68\n",
       "Dummy Median Nonzero        -0.08  0.00 -0.00 -0.00  1.77\n",
       "Perfect Clasif., Mean Regr.  0.13  0.73  0.41  0.53  1.53\n",
       "Lasso                        0.45  0.61  0.70  3.07  1.23\n",
       "Bounded Lasso                0.55  0.64  0.75  2.87  1.08\n",
       "Bounded Lasso + LogReg       0.64  0.80  0.82  2.66  0.86"
      ]
     },
     "execution_count": 55,
     "metadata": {},
     "output_type": "execute_result"
    }
   ],
   "source": [
    "for score_name in scoring.keys():\n",
    "    overall_results.loc['Bounded Lasso + LogReg',score_name] = np.round(search.cv_results_['mean_test_'+score_name][np.argmax(search.cv_results_['mean_test_'+refit])],2)\n",
    "overall_results"
   ]
  },
  {
   "cell_type": "code",
   "execution_count": 56,
   "metadata": {},
   "outputs": [],
   "source": [
    "overall_results.to_csv('../reports/model_results.csv')"
   ]
  }
 ],
 "metadata": {
  "kernelspec": {
   "display_name": "Python 3",
   "language": "python",
   "name": "python3"
  },
  "language_info": {
   "codemirror_mode": {
    "name": "ipython",
    "version": 3
   },
   "file_extension": ".py",
   "mimetype": "text/x-python",
   "name": "python",
   "nbconvert_exporter": "python",
   "pygments_lexer": "ipython3",
   "version": "3.6.7"
  }
 },
 "nbformat": 4,
 "nbformat_minor": 2
}
