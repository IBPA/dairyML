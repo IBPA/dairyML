{
 "cells": [
  {
   "cell_type": "code",
   "execution_count": 339,
   "metadata": {},
   "outputs": [],
   "source": [
    "import os\n",
    "import glob\n",
    "\n",
    "import pandas as pd\n",
    "\n",
    "\n",
    "\n",
    "# from sklearn.linear_model import Lasso, LassoCV, LogisticRegressionCV, LogisticRegression\n",
    "# from sklearn.svm import SVC\n",
    "from sklearn.preprocessing import StandardScaler\n",
    "from sklearn.model_selection import cross_val_score, GridSearchCV, train_test_split\n",
    "from sklearn.metrics import r2_score, explained_variance_score, normalized_mutual_info_score, mutual_info_score\n",
    "from sklearn.model_selection import KFold, RepeatedKFold\n",
    "from sklearn.dummy import DummyRegressor\n",
    "from sklearn.utils.validation import check_X_y, check_array, check_is_fitted\n",
    "from sklearn.utils import shuffle\n",
    "from sklearn.decomposition import PCA\n",
    "# from sklearn.ensemble import IsolationForest\n",
    "\n",
    "from keras.losses import mean_squared_error\n",
    "from keras.models import Sequential\n",
    "from keras.layers import Dense\n",
    "from keras.wrappers.scikit_learn import KerasRegressor\n",
    "from keras import backend as K\n",
    "from keras import regularizers\n",
    "from keras import optimizers\n",
    "# from keras.layers import Lambda\n",
    "\n",
    "from hyperopt import Trials, fmin, tpe, hp, STATUS_OK\n",
    "\n",
    "from mlxtend.plotting import plot_learning_curves\n",
    "from mlxtend.data import iris_data\n",
    "from mlxtend.preprocessing import shuffle_arrays_unison\n",
    "\n",
    "import numpy as np\n",
    "import matplotlib.pyplot as plt\n",
    "import seaborn as sns\n",
    "\n",
    "import pickle as pkl\n",
    "import datetime\n",
    "\n",
    "import warnings\n",
    "warnings.filterwarnings('ignore')\n",
    "from pylab import rcParams\n",
    "rcParams['figure.figsize'] = 8, 8"
   ]
  },
  {
   "cell_type": "markdown",
   "metadata": {},
   "source": [
    "Custom model implementations and functions are stored in `src/dairyml.py`"
   ]
  },
  {
   "cell_type": "code",
   "execution_count": 2,
   "metadata": {},
   "outputs": [],
   "source": [
    "from dairyml import PerfectClassifierMeanRegressor, plot_r2, BoundedLasso, BoundedLassoPlusLogReg, plot_coefficients"
   ]
  },
  {
   "cell_type": "markdown",
   "metadata": {},
   "source": [
    "## Import the Data\n",
    "Load the data from the csv file, and set FoodCode to be the data index"
   ]
  },
  {
   "cell_type": "code",
   "execution_count": 3,
   "metadata": {},
   "outputs": [],
   "source": [
    "data = pd.read_csv('../data/training_for_GS_122118.csv')\n",
    "data = data.set_index('FoodCode')"
   ]
  },
  {
   "cell_type": "markdown",
   "metadata": {},
   "source": [
    "Get the indices of all columns except description and lactose content - these columns are the numerical features that will be used as model input\n",
    "\n"
   ]
  },
  {
   "cell_type": "code",
   "execution_count": 4,
   "metadata": {},
   "outputs": [],
   "source": [
    "numerical_features = data.columns[1:-1]\n",
    "# print(numerical_features)"
   ]
  },
  {
   "cell_type": "markdown",
   "metadata": {},
   "source": [
    "## Prepare data for modelling\n",
    "### Standardize the input features\n",
    "- Use only the numerical features as model input `X`  \n",
    "- Use sklearn's `StandardScaler` on these features: this standardizes features by removing the mean and scaling to unit variance \n",
    "- Convert the output of `StandardScaler` back to a dataframe for convenience"
   ]
  },
  {
   "cell_type": "code",
   "execution_count": 134,
   "metadata": {},
   "outputs": [],
   "source": [
    "ss = StandardScaler()\n",
    "X = pd.DataFrame(ss.fit_transform(data[numerical_features]),columns=data[numerical_features].columns)\n",
    "# X.head()"
   ]
  },
  {
   "cell_type": "markdown",
   "metadata": {},
   "source": [
    "### Use lactose as prediction target `Y`"
   ]
  },
  {
   "cell_type": "code",
   "execution_count": 135,
   "metadata": {},
   "outputs": [],
   "source": [
    "Y = data['lac.per.100g']\n",
    "# Y.head()"
   ]
  },
  {
   "cell_type": "markdown",
   "metadata": {},
   "source": [
    "## Modelling"
   ]
  },
  {
   "cell_type": "markdown",
   "metadata": {},
   "source": [
    "We will use the below splitter for cross-validation: 10 folds, with shuffling"
   ]
  },
  {
   "cell_type": "code",
   "execution_count": 292,
   "metadata": {},
   "outputs": [],
   "source": [
    "splitter= KFold(n_splits=5,shuffle=True,random_state=7)"
   ]
  },
  {
   "cell_type": "markdown",
   "metadata": {},
   "source": [
    "### Baseline Models\n"
   ]
  },
  {
   "cell_type": "markdown",
   "metadata": {},
   "source": [
    "#### Mean"
   ]
  },
  {
   "cell_type": "code",
   "execution_count": 293,
   "metadata": {},
   "outputs": [],
   "source": [
    "# dummy_mean = DummyRegressor(strategy='mean')\n",
    "# dummy_mean_score = np.round(np.mean(cross_val_score(dummy_mean,X,Y,cv=splitter,scoring='r2')),2)\n",
    "\n",
    "# print('Dummy model (Mean) testing R^2: {}'.format(dummy_mean_score))"
   ]
  },
  {
   "cell_type": "markdown",
   "metadata": {},
   "source": [
    "#### Median"
   ]
  },
  {
   "cell_type": "code",
   "execution_count": 294,
   "metadata": {},
   "outputs": [],
   "source": [
    "# dummy_mean = DummyRegressor(strategy='median')\n",
    "# dummy_mean_score = np.round(np.mean(cross_val_score(dummy_mean,X,Y,cv=splitter,scoring='r2')),2)\n",
    "\n",
    "# print('Dummy model (Median) testing R^2: {}'.format(dummy_mean_score))"
   ]
  },
  {
   "cell_type": "markdown",
   "metadata": {},
   "source": [
    "#### Perfect classifier plus mean regressor\n",
    "- This classifier predicts 0 where the true value is 0, or the mean of the training lactose values where the true value is nonzero\n",
    "\n",
    "- See dairyml.py for implementation\n",
    "\n",
    "(This class is not compliant with sklearn conventions, this was the easiest implementation I could think of to include perfect classification)"
   ]
  },
  {
   "cell_type": "code",
   "execution_count": 295,
   "metadata": {},
   "outputs": [],
   "source": [
    "# pcmr = PerfectClassifierMeanRegressor()\n",
    "# pcmr.fit(X,Y)\n",
    "# dummy_pcmr_score = np.round(np.mean(pcmr.cross_val()),2)\n",
    "\n",
    "# print('Dummy model (Perfect Classification, Mean Regression) testing R^2: {}'.format(dummy_pcmr_score))"
   ]
  },
  {
   "cell_type": "markdown",
   "metadata": {},
   "source": [
    "# Feed-Forward Neural Network (FFNN)"
   ]
  },
  {
   "cell_type": "markdown",
   "metadata": {},
   "source": [
    "### Function to build model"
   ]
  },
  {
   "cell_type": "code",
   "execution_count": 296,
   "metadata": {},
   "outputs": [],
   "source": [
    "# custom R2-score metrics for keras backend\n",
    "# https://www.kaggle.com/c/mercedes-benz-greener-manufacturing/discussion/34019\n",
    "def r2_keras(y_true, y_pred):\n",
    "    SS_res =  K.sum(K.square( y_true-y_pred ))\n",
    "    SS_tot = K.sum(K.square( y_true - K.mean(y_true) ) )\n",
    "    return ( 1 - SS_res/(SS_tot + K.epsilon()) )"
   ]
  },
  {
   "cell_type": "code",
   "execution_count": 297,
   "metadata": {},
   "outputs": [],
   "source": [
    "def create_model(hidden_layers,num_nodes,alpha=0.01,lr=.001): \n",
    "    \n",
    "    reg = regularizers.l2(alpha)\n",
    "    \n",
    "    model = Sequential()\n",
    "    \n",
    "    model.add(Dense(num_nodes, input_dim=X.shape[1], activation='relu', kernel_regularizer = reg))\n",
    "    \n",
    "    for i in range(0,hidden_layers-1):\n",
    "        model.add(Dense(num_nodes, activation='relu', kernel_regularizer = reg))\n",
    "        \n",
    "    model.add(Dense(1, activation='linear'))\n",
    "    \n",
    "    adam = optimizers.Adam(lr=lr, beta_1=0.9, beta_2=0.999, epsilon=None, decay=0.0, amsgrad=False)\n",
    "    \n",
    "    #add r2 and other metrics\n",
    "    model.compile(loss='mean_squared_error', optimizer=adam,metrics=['mean_absolute_error',r2_keras])\n",
    "    return model"
   ]
  },
  {
   "cell_type": "markdown",
   "metadata": {},
   "source": [
    "### Score CV by r2"
   ]
  },
  {
   "cell_type": "code",
   "execution_count": 298,
   "metadata": {},
   "outputs": [],
   "source": [
    "scoring = {'r2':make_scorer(r2_score)}"
   ]
  },
  {
   "cell_type": "markdown",
   "metadata": {},
   "source": [
    "### Plot learning curves for train test split to estimate appropriate number of epochs"
   ]
  },
  {
   "cell_type": "code",
   "execution_count": 299,
   "metadata": {},
   "outputs": [],
   "source": [
    "# model = create_model(1,60)\n",
    "\n",
    "# # X_train, X_test, y_train, y_test = train_test_split(X, Y, test_size=0.15, random_state=7, shuffle=True)\n",
    "# # plot_learning_curves(X_train, y_train, X_test, y_test, model, scoring='r2')\n",
    "\n",
    "# X_shuf, Y_shuf = shuffle(X,Y,random_state=7)\n",
    "\n",
    "\n",
    "# history = model.fit(X_shuf, Y_shuf, validation_split=0.2, epochs=200, batch_size=10, verbose=0)\n",
    "# # list all data in history\n",
    "# print(history.history.keys())\n",
    "\n",
    "\n",
    "# plt.plot(history.history['r2_keras'])\n",
    "# plt.plot(history.history['val_r2_keras'])\n",
    "# plt.title('R2')\n",
    "# plt.ylabel('R2')\n",
    "# plt.xlabel('epoch')\n",
    "# plt.legend(['train', 'test'], loc='upper left')\n",
    "# plt.ylim(0,1)\n",
    "# plt.show()\n",
    "\n",
    "# plt.plot(history.history['loss'])\n",
    "# plt.plot(history.history['val_loss'])\n",
    "# plt.title('model loss')\n",
    "# plt.ylabel('loss')\n",
    "# plt.xlabel('epoch')\n",
    "# plt.legend(['train', 'test'], loc='upper left')\n",
    "# plt.show()"
   ]
  },
  {
   "cell_type": "markdown",
   "metadata": {},
   "source": [
    "### Define objective function (1-r2) for hyperopt"
   ]
  },
  {
   "cell_type": "code",
   "execution_count": 309,
   "metadata": {},
   "outputs": [],
   "source": [
    "EPOCHS = 100\n",
    "\n",
    "def objective(params):\n",
    "# def objective(hidden_layers,num_nodes):\n",
    "    hidden_layers = int(params['hidden_layers'])\n",
    "    num_nodes = int(params['num_nodes'])\n",
    "    alpha = params['alpha']\n",
    "    lr = params['lr']\n",
    "    \n",
    "    print('hidden_layers: {}'.format(hidden_layers))\n",
    "    print('num_nodes: {}'.format(num_nodes))\n",
    "    print('alpha: {}'.format(alpha))\n",
    "    print('lr: {}'.format(lr))\n",
    "    \n",
    "    model = KerasRegressor(build_fn=create_model,\n",
    "                           hidden_layers=hidden_layers,\n",
    "                           num_nodes=num_nodes,\n",
    "                           alpha=alpha,\n",
    "                           lr=lr,\n",
    "                           epochs=EPOCHS, \n",
    "                           batch_size=5, \n",
    "                           verbose=0)\n",
    "    \n",
    "    results = cross_validate(model,X,Y,cv=splitter,scoring=scoring)\n",
    "    \n",
    "    r2 = np.mean(results['test_r2'])\n",
    "    loss = 1 - r2\n",
    "    \n",
    "    print('R^2: {}'.format(r2))\n",
    "    print('\\n')\n",
    "    \n",
    "    \n",
    "    \n",
    "    return {'loss': loss, 'params': params, 'status': STATUS_OK}"
   ]
  },
  {
   "cell_type": "markdown",
   "metadata": {},
   "source": [
    "min, max, stepsize"
   ]
  },
  {
   "cell_type": "markdown",
   "metadata": {},
   "source": [
    "### Define the parameter space"
   ]
  },
  {
   "cell_type": "code",
   "execution_count": 310,
   "metadata": {},
   "outputs": [],
   "source": [
    "space = {\n",
    "            'hidden_layers': hp.quniform('hidden_layers', 1, 2, 1),\n",
    "            'num_nodes': hp.qloguniform('num_nodes', np.log(3), np.log(100), 1),\n",
    "            'lr': hp.loguniform('lr', np.log(1e-4), np.log(1e-2)),\n",
    "            'alpha': hp.loguniform('alpha', np.log(1e-4), np.log(1e-1))\n",
    "        }"
   ]
  },
  {
   "cell_type": "markdown",
   "metadata": {},
   "source": [
    "### Trials object to store results"
   ]
  },
  {
   "cell_type": "code",
   "execution_count": 311,
   "metadata": {},
   "outputs": [],
   "source": [
    "trials = Trials()"
   ]
  },
  {
   "cell_type": "markdown",
   "metadata": {},
   "source": [
    "### Run hyperopt"
   ]
  },
  {
   "cell_type": "code",
   "execution_count": 312,
   "metadata": {},
   "outputs": [
    {
     "name": "stdout",
     "output_type": "stream",
     "text": [
      "hidden_layers: 1\n",
      "num_nodes: 3\n",
      "alpha: 0.011919348950814248\n",
      "lr: 0.008696534757119328\n",
      "R^2: 0.5416689502982143\n",
      "\n",
      "\n",
      "hidden_layers: 2\n",
      "num_nodes: 3\n",
      "alpha: 0.00020897271956071595\n",
      "lr: 0.0008356388496771893\n",
      "R^2: 0.6244959023328084\n",
      "\n",
      "\n",
      "hidden_layers: 1\n",
      "num_nodes: 40\n",
      "alpha: 0.014550696296277088\n",
      "lr: 0.0013488799122571282\n",
      "R^2: 0.6273493122402498\n",
      "\n",
      "\n",
      "hidden_layers: 2\n",
      "num_nodes: 15\n",
      "alpha: 0.00016259008566805636\n",
      "lr: 0.00303136585715929\n",
      "R^2: 0.670933823242754\n",
      "\n",
      "\n",
      "hidden_layers: 1\n",
      "num_nodes: 14\n",
      "alpha: 0.08507975722250913\n",
      "lr: 0.0003230701818184669\n",
      "R^2: 0.5537815767459113\n",
      "\n",
      "\n",
      "hidden_layers: 2\n",
      "num_nodes: 11\n",
      "alpha: 0.0038428763695687565\n",
      "lr: 0.0002261146652768974\n",
      "R^2: 0.6666974220239805\n",
      "\n",
      "\n",
      "hidden_layers: 2\n",
      "num_nodes: 69\n",
      "alpha: 0.001217427134968658\n",
      "lr: 0.0006437673256730367\n",
      "R^2: 0.6891895200319381\n",
      "\n",
      "\n",
      "hidden_layers: 1\n",
      "num_nodes: 17\n",
      "alpha: 0.027634252171355827\n",
      "lr: 0.009623762199187966\n",
      "R^2: 0.6086432254029224\n",
      "\n",
      "\n",
      "hidden_layers: 2\n",
      "num_nodes: 45\n",
      "alpha: 0.04684415929397044\n",
      "lr: 0.002343926589674816\n",
      "R^2: 0.658396081868497\n",
      "\n",
      "\n",
      "hidden_layers: 2\n",
      "num_nodes: 4\n",
      "alpha: 0.0009037362320658456\n",
      "lr: 0.003490570362723046\n",
      "R^2: 0.6261539713311722\n",
      "\n",
      "\n",
      "hidden_layers: 1\n",
      "num_nodes: 24\n",
      "alpha: 0.00036228071739875854\n",
      "lr: 0.008996709792855263\n",
      "R^2: 0.6595198252627089\n",
      "\n",
      "\n",
      "hidden_layers: 1\n",
      "num_nodes: 75\n",
      "alpha: 0.003130244418949534\n",
      "lr: 0.0038865553107021874\n",
      "R^2: 0.6637123853501847\n",
      "\n",
      "\n",
      "hidden_layers: 2\n",
      "num_nodes: 14\n",
      "alpha: 0.00010964009067260052\n",
      "lr: 0.0005641419746899879\n",
      "R^2: 0.5887981582710502\n",
      "\n",
      "\n",
      "hidden_layers: 2\n",
      "num_nodes: 15\n",
      "alpha: 0.04360663981037773\n",
      "lr: 0.0003404795247354206\n",
      "R^2: 0.5838071416259666\n",
      "\n",
      "\n",
      "hidden_layers: 1\n",
      "num_nodes: 11\n",
      "alpha: 0.0005805640048884873\n",
      "lr: 0.00029618807872804705\n",
      "R^2: 0.5144688016978247\n",
      "\n",
      "\n",
      "hidden_layers: 2\n",
      "num_nodes: 96\n",
      "alpha: 0.00011578005037215803\n",
      "lr: 0.0002600120961919376\n",
      "R^2: 0.6440216161681944\n",
      "\n",
      "\n",
      "hidden_layers: 1\n",
      "num_nodes: 88\n",
      "alpha: 0.012188239570492044\n",
      "lr: 0.00035959179115242616\n",
      "R^2: 0.6306748615355828\n",
      "\n",
      "\n",
      "hidden_layers: 1\n",
      "num_nodes: 59\n",
      "alpha: 0.005660851233300683\n",
      "lr: 0.001994170783323986\n",
      "R^2: 0.7100208234567651\n",
      "\n",
      "\n",
      "hidden_layers: 1\n",
      "num_nodes: 21\n",
      "alpha: 0.00013430325642101014\n",
      "lr: 0.0010632582239894464\n",
      "R^2: 0.6371319201249882\n",
      "\n",
      "\n",
      "hidden_layers: 1\n",
      "num_nodes: 4\n",
      "alpha: 0.0012023161709806343\n",
      "lr: 0.00584694848625239\n",
      "R^2: 0.5611402516043767\n",
      "\n",
      "\n"
     ]
    }
   ],
   "source": [
    "MAX_EVALS = 20\n",
    "\n",
    "# Optimize\n",
    "best = fmin(fn = objective, space = space, algo = tpe.suggest, \n",
    "            max_evals = MAX_EVALS, trials = trials)"
   ]
  },
  {
   "cell_type": "code",
   "execution_count": 441,
   "metadata": {},
   "outputs": [],
   "source": [
    "def save_params(params):\n",
    "    save_string = 'FFNN_best_params-' + str(datetime.datetime.now().strftime(\"%Y-%m-%d %H-%M %p\"))\n",
    "    params_dir = \"../pkl/params/FFNN/\"\n",
    "    \n",
    "    try:\n",
    "        os.makedirs(params_dir)\n",
    "    except FileExistsError:\n",
    "        pass\n",
    "    \n",
    "    with open(params_dir + save_string, \"wb\" ) as f:\n",
    "        f.seek(0)\n",
    "        pkl.dump(params,f)\n",
    "\n",
    "def load_params():\n",
    "    params_dir = \"../pkl/params/FFNN/*\"\n",
    "    list_of_files = glob.glob(params_dir)\n",
    "    latest_file = max(list_of_files, key=os.path.getctime)\n",
    "    print('loading {}'.format(latest_file))\n",
    "    \n",
    "    with open(latest_file, \"rb\") as f:\n",
    "        f.seek(0)\n",
    "        params = pkl.load(f)\n",
    "        \n",
    "    return params"
   ]
  },
  {
   "cell_type": "code",
   "execution_count": 442,
   "metadata": {},
   "outputs": [],
   "source": [
    "def save_trials(trials):\n",
    "    save_string = 'FFNN_trials-' + str(datetime.datetime.now().strftime(\"%Y-%m-%d %H-%M %p\"))\n",
    "    trials_dir = '../pkl/trials/FFNN/'\n",
    "    \n",
    "    try:\n",
    "        os.makedirs(trials_dir)\n",
    "    except FileExistsError:\n",
    "        pass\n",
    "    \n",
    "    with open(trials_dir + save_string, \"wb\" ) as f:\n",
    "        f.seek(0)\n",
    "        pkl.dump(trials,f)\n",
    "        \n",
    "    print('saved to {}'.format(trials_dir + save_string))\n",
    "\n",
    "def load_trials():\n",
    "    trials_dir = \"../pkl/trials/FFNN/*\"\n",
    "    list_of_files = glob.glob(trials_dir)\n",
    "    latest_file = max(list_of_files, key=os.path.getctime)\n",
    "    print('loading {}'.format(latest_file))\n",
    "    \n",
    "    with open(latest_file, \"rb\") as f:\n",
    "        f.seek(0)\n",
    "        trials = pkl.load(f)\n",
    "        \n",
    "    return trials"
   ]
  },
  {
   "cell_type": "code",
   "execution_count": 444,
   "metadata": {},
   "outputs": [
    {
     "name": "stdout",
     "output_type": "stream",
     "text": [
      "loading ../pkl/params/FFNN\\FFNN_best_params-2019-01-21 12-43 PM\n"
     ]
    },
    {
     "data": {
      "text/plain": [
       "{'alpha': 0.005660851233300683,\n",
       " 'hidden_layers': 1.0,\n",
       " 'lr': 0.001994170783323986,\n",
       " 'num_nodes': 59.0}"
      ]
     },
     "execution_count": 444,
     "metadata": {},
     "output_type": "execute_result"
    }
   ],
   "source": [
    "save_params(best)\n",
    "load_params()"
   ]
  },
  {
   "cell_type": "code",
   "execution_count": 445,
   "metadata": {},
   "outputs": [
    {
     "name": "stdout",
     "output_type": "stream",
     "text": [
      "saved to ../pkl/trials/FFNN/FFNN_trials-2019-01-21 12-44 PM\n",
      "loading ../pkl/trials/FFNN\\FFNN_trials-2019-01-21 12-44 PM\n"
     ]
    },
    {
     "data": {
      "text/plain": [
       "<hyperopt.base.Trials at 0xb992c240>"
      ]
     },
     "execution_count": 445,
     "metadata": {},
     "output_type": "execute_result"
    }
   ],
   "source": [
    "save_trials(trials)\n",
    "load_trials()"
   ]
  },
  {
   "cell_type": "markdown",
   "metadata": {},
   "source": [
    "#### Feature importances\n",
    "Here we plot the non-zero coefficients of the Bounded Lasso model. The magnitude of the coefficient for each feature indicates how much each feature contributes to the overall lactose estimate. We can see that choline, sugar, and potassium contribute positively to the lactose estimate, while fiber, cholesterol, and protein contribute negatively. "
   ]
  },
  {
   "cell_type": "code",
   "execution_count": 22,
   "metadata": {},
   "outputs": [
    {
     "data": {
      "image/png": "[encoded data removed]",
      "text/plain": [
       "<Figure size 432x288 with 1 Axes>"
      ]
     },
     "metadata": {
      "needs_background": "light"
     },
     "output_type": "display_data"
    }
   ],
   "source": [
    "plot_coefficients(search.best_estimator_,X)"
   ]
  },
  {
   "cell_type": "markdown",
   "metadata": {},
   "source": [
    "### Bounded Lasso plus Classifier\n",
    "- Add a binary classifier to the model to predict whether a food is zero or non-zero lactose. \n",
    "- In the case that the classifier predicts 0 lactose, the overall model output is 0. \n",
    "- In the case that the classifier predicts non-zero, the output from the bounded lasso model is used\n",
    "\n",
    "#### Evaluate the classifier by itself"
   ]
  },
  {
   "cell_type": "code",
   "execution_count": 23,
   "metadata": {},
   "outputs": [
    {
     "data": {
      "text/plain": [
       "GridSearchCV(cv=10, error_score='raise-deprecating',\n",
       "       estimator=LogisticRegression(C=1.0, class_weight=None, dual=False, fit_intercept=True,\n",
       "          intercept_scaling=1, max_iter=2000, multi_class='warn',\n",
       "          n_jobs=None, penalty='l2', random_state=None, solver='lbfgs',\n",
       "          tol=0.0001, verbose=0, warm_start=False),\n",
       "       fit_params=None, iid='warn', n_jobs=None,\n",
       "       param_grid={'C': array([1.00000e-04, 1.88739e-04, 3.56225e-04, 6.72336e-04, 1.26896e-03,\n",
       "       2.39503e-03, 4.52035e-03, 8.53168e-03, 1.61026e-02, 3.03920e-02,\n",
       "       5.73615e-02, 1.08264e-01, 2.04336e-01, 3.85662e-01, 7.27895e-01,\n",
       "       1.37382e+00, 2.59294e+00, 4.89390e+00, 9.23671e+00, 1.74333e+01,\n",
       "       3.29034e+01, 6.21017e+01, 1.17210e+02, 2.21222e+02, 4.17532e+02,\n",
       "       7.88046e+02, 1.48735e+03, 2.80722e+03, 5.29832e+03, 1.00000e+04])},\n",
       "       pre_dispatch='2*n_jobs', refit='accuracy',\n",
       "       return_train_score='warn', scoring=('accuracy', 'recall'),\n",
       "       verbose=0)"
      ]
     },
     "execution_count": 23,
     "metadata": {},
     "output_type": "execute_result"
    }
   ],
   "source": [
    "Y_binary = Y != 0\n",
    "\n",
    "param_grid_LR = {'C': np.logspace(-4, 4, 30)}\n",
    "\n",
    "search_LR = GridSearchCV(estimator=LogisticRegression(solver='lbfgs',max_iter=2000),param_grid=param_grid_LR,scoring=('accuracy','recall'),refit='accuracy',cv=10)\n",
    "search_LR.fit(X,Y_binary)\n",
    "\n",
    "# param_grid_SVC = {'C': np.logspace(-4, 4, 30)}\n",
    "# search_SVC = GridSearchCV(estimator=SVC(kernel='rbf'),param_grid=param_grid_SVC,scoring=('accuracy','recall'),refit='accuracy',cv=10)\n",
    "# search_SVC.fit(X,Y_binary)"
   ]
  },
  {
   "cell_type": "markdown",
   "metadata": {},
   "source": [
    "#### Classifier accuracy\n",
    "The classifier achieves 89% accuracy in predicting 0 vs non-zero lactose."
   ]
  },
  {
   "cell_type": "code",
   "execution_count": 24,
   "metadata": {},
   "outputs": [
    {
     "data": {
      "text/plain": [
       "0.8941798941798942"
      ]
     },
     "execution_count": 24,
     "metadata": {},
     "output_type": "execute_result"
    }
   ],
   "source": [
    "search_LR.best_score_"
   ]
  },
  {
   "cell_type": "markdown",
   "metadata": {},
   "source": [
    "### Evaluate the Bounded Lasso + Classifier Model"
   ]
  },
  {
   "cell_type": "code",
   "execution_count": 28,
   "metadata": {},
   "outputs": [
    {
     "data": {
      "text/plain": [
       "GridSearchCV(cv=KFold(n_splits=10, random_state=7, shuffle=True),\n",
       "       error_score='raise-deprecating',\n",
       "       estimator=BoundedLassoPlusLogReg(C=None, alpha=None),\n",
       "       fit_params=None, iid='warn', n_jobs=None,\n",
       "       param_grid={'alpha': array([0.001  , 0.00167, 0.00278, 0.00464, 0.00774, 0.01292, 0.02154,\n",
       "       0.03594, 0.05995, 0.1    ]), 'C': array([1.00000e-04, 7.74264e-04, 5.99484e-03, 4.64159e-02, 3.59381e-01,\n",
       "       2.78256e+00, 2.15443e+01, 1.66810e+02, 1.29155e+03, 1.00000e+04])},\n",
       "       pre_dispatch='2*n_jobs', refit='r2', return_train_score='warn',\n",
       "       scoring=('neg_mean_squared_error', 'r2'), verbose=0)"
      ]
     },
     "execution_count": 28,
     "metadata": {},
     "output_type": "execute_result"
    }
   ],
   "source": [
    "param_grid = {'alpha': np.logspace(-3, -1, 10), 'C': np.logspace(-4, 4, 10)}\n",
    "refit='r2'\n",
    "search = GridSearchCV(estimator=BoundedLassoPlusLogReg(),param_grid=param_grid,scoring=('neg_mean_squared_error','r2'),refit=refit,cv=splitter)\n",
    "search.fit(X,Y)"
   ]
  },
  {
   "cell_type": "code",
   "execution_count": 29,
   "metadata": {},
   "outputs": [
    {
     "data": {
      "text/plain": [
       "{'C': 1291.5496650148827, 'alpha': 0.05994842503189409}"
      ]
     },
     "execution_count": 29,
     "metadata": {},
     "output_type": "execute_result"
    }
   ],
   "source": [
    "search.best_estimator_.get_params()"
   ]
  },
  {
   "cell_type": "markdown",
   "metadata": {},
   "source": [
    "#### Model test performance\n",
    "Highest R^2 score for the Lasso model from 10-fold CV (this is the performance we can expect on the test set)\n",
    "\n",
    "Performance isn't significantly improved over the model without classifier."
   ]
  },
  {
   "cell_type": "code",
   "execution_count": 30,
   "metadata": {},
   "outputs": [
    {
     "data": {
      "text/plain": [
       "0.5320283631046228"
      ]
     },
     "execution_count": 30,
     "metadata": {},
     "output_type": "execute_result"
    }
   ],
   "source": [
    "search.best_score_"
   ]
  }
 ],
 "metadata": {
  "kernelspec": {
   "display_name": "Python 3",
   "language": "python",
   "name": "python3"
  },
  "language_info": {
   "codemirror_mode": {
    "name": "ipython",
    "version": 3
   },
   "file_extension": ".py",
   "mimetype": "text/x-python",
   "name": "python",
   "nbconvert_exporter": "python",
   "pygments_lexer": "ipython3",
   "version": "3.6.7"
  }
 },
 "nbformat": 4,
 "nbformat_minor": 2
}
